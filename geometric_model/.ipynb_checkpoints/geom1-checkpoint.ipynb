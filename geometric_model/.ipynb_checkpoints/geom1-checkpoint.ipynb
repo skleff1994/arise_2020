{
 "cells": [
  {
   "cell_type": "markdown",
   "metadata": {},
   "source": [
    "# Geometric modelling 1 "
   ]
  },
  {
   "cell_type": "markdown",
   "metadata": {},
   "source": [
    "The geometric model of a robot is a set of equations describing the robot's geometry. This enables for instance to calculate the end-effector's position in the workspace based on the joint angles. There are 2 kinds of geometric models:\n",
    "\n",
    "- Direct Geometric Model (DGM) : given joint positions, it gives the position of the end-effector (tool, hand, foot, etc.) with respect to the robot's base \n",
    "\n",
    "- Inverse Geometric Model (IGM) : given an end-effector position (and orientation), it gives the joint positions \n",
    "\n",
    "The joint positions are usually denoted by $q$ and belong to __joint space__ which is the space of robot configurations. The end-effector's pose is denoted $p$ and belongs to the __task space__, or cartesian space, typically $\\mathbb{R}^{2}$ or $\\mathb{R}^{3}$. So the geometric model is in fact a mapping between the joint space and the task space. We will introduce these concepts more concretely with examples. "
   ]
  },
  {
   "cell_type": "markdown",
   "metadata": {},
   "source": [
    "Consider a simple arm consisting of 1 revolute joint and 1 link. One way to describe the robot configuration is to use the joint angle $q\\in[0,2\\pi[$, which is a joint space description and the joint space is the interval $[0,2\\pi[$. Knowing $q$, the DGM enables to find the end-effector's position $p$ in the task space ($x$ and $y$ coordinates) with respect to a fixed reference coordinate frame attached to the base. The DGM equations in this case are\n",
    "\n",
    "$$\n",
    "x_p = L \\cos(q) \\\\\n",
    "y_p = L \\sin(q)\n",
    "$$\n",
    "\n",
    "where $(x_p,y_p)$ are the cartesian coordinates of the end-effector and $L$ is the length of the link. The same equations can be expressed more compactly as \n",
    "\n",
    "$$\n",
    "p = DGM(q)\n",
    "$$\n",
    "\n",
    "where $DGM$ is a function taking a joint angle $q$ as an input and outputs a cartesian position $p=(x_p,y_p)$ expressed in the base frame. It is implemented in python as follow"
   ]
  },
  {
   "cell_type": "code",
   "execution_count": 1,
   "metadata": {},
   "outputs": [
    {
     "name": "stdout",
     "output_type": "stream",
     "text": [
      "The end-effector position corresponding to q = 1.7 is : p = [-0.12884449  0.99166481]\n"
     ]
    }
   ],
   "source": [
    "import numpy as np\n",
    "\n",
    "# Define the link length\n",
    "L = 1.\n",
    "\n",
    "# Function corresponding to the direct geometric model\n",
    "def DGM(q):\n",
    "    '''\n",
    "    Input : joint angle (in rad)\n",
    "    Output : end-effector position (in m)\n",
    "    '''\n",
    "    \n",
    "    x_p = L*np.cos(q)\n",
    "    y_p = L*np.sin(q)\n",
    "    \n",
    "    p = np.array([x_p, y_p])\n",
    "    \n",
    "    return p\n",
    "\n",
    "# Test the DGM and display the result\n",
    "q = 1.7\n",
    "p = DGM(q)\n",
    "print(\"The end-effector position corresponding to q = \"+str(q)+\" is : p = \"+str(p))"
   ]
  },
  {
   "cell_type": "markdown",
   "metadata": {},
   "source": [
    "__Question__ : what is the task space of the 1R robot ? (Hint: it is a subset of the cartesian plane $\\mathbb{R}^{2}$)"
   ]
  },
  {
   "cell_type": "markdown",
   "metadata": {},
   "source": [
    "The IGM solves the converse problem: given an end-effector position (task space), it returns the corresponding position. The IGM is derived by inverting the DGM equations, i.e. by expressing $q$ in terms of $p$. The IGM reads\n",
    "\n",
    "$$\n",
    "x_p = L cos(q) \\\\\n",
    "y_p = L sin(q)\n",
    "$$\n",
    "\n",
    "Assuming $cos(q) \\neq 0$ we can divide the second equation by the first equation\n",
    "\n",
    "$$\n",
    "\\frac{y_p}{x_p} = \\frac{\\sin(q)}{\\cos(q)} = \\tan(q)\\\\\n",
    "$$\n",
    "\n",
    "Therefore the IGM reads\n",
    "\n",
    "$$\n",
    "q = tan^{-1}(\\frac{y_p}{x_p})\n",
    "$$\n",
    "\n",
    "The following function implements the IGM"
   ]
  },
  {
   "cell_type": "code",
   "execution_count": 2,
   "metadata": {},
   "outputs": [
    {
     "name": "stdout",
     "output_type": "stream",
     "text": [
      "The joint position corresponding to p = [0.3 0.5] is : q = 1.0303768265243125\n"
     ]
    }
   ],
   "source": [
    "# Function corresponding to the inverse geometric model\n",
    "def IGM(p):\n",
    "    '''\n",
    "    Input : end-effector position (in m)\n",
    "    Output : joint angle (in rad)\n",
    "    '''\n",
    "    \n",
    "    x_p = p[0]\n",
    "    y_p = p[1]\n",
    "    \n",
    "    q = np.arctan2(y_p, x_p)\n",
    "    \n",
    "    return q\n",
    "\n",
    "# Test the DGM and display the result\n",
    "p = np.array([0.3, 0.5])\n",
    "q = IGM(p)\n",
    "print(\"The joint position corresponding to p = \"+str(p)+\" is : q = \"+str(q))"
   ]
  },
  {
   "cell_type": "markdown",
   "metadata": {},
   "source": [
    "__Question__ : For which value(s) $q$ do we have $cos(q) = 0$ ? In this case, can we still use the IGM we derived previously in order to calculate $q$ ? "
   ]
  },
  {
   "cell_type": "markdown",
   "metadata": {},
   "source": [
    "Now we import a function to visualize the robot in various configurations"
   ]
  },
  {
   "cell_type": "markdown",
   "metadata": {},
   "source": [
    "Now let us summarize the geometric model of the 1R robot into a python class"
   ]
  },
  {
   "cell_type": "code",
   "execution_count": 13,
   "metadata": {},
   "outputs": [],
   "source": [
    "# Class for the geometric model of the 2R robot\n",
    "class GeometricModel1R:\n",
    "    '''\n",
    "    Environment class for the geometric model of the 1R robot\n",
    "    '''\n",
    "    \n",
    "    def __init__(self, L):\n",
    "        ''' \n",
    "        Initialize model parameters\n",
    "        '''\n",
    "        self.L = L\n",
    "    \n",
    "    def DGM(self, q):\n",
    "        '''\n",
    "        Input : joint angle (in rad)\n",
    "        Output : end-effector position (in m)\n",
    "        '''\n",
    "        x_p = L*np.cos(q)\n",
    "        y_p = L*np.sin(q)\n",
    "        p = np.array([x_p, y_p])\n",
    "        return p\n",
    "\n",
    "    def IGM(self, p):\n",
    "        '''\n",
    "        Input : end-effector position (in m)\n",
    "        Output : joint angle (in rad)\n",
    "        '''\n",
    "        x_p = p[0]\n",
    "        y_p = p[1]\n",
    "        q = np.arctan2(y_p, x_p)\n",
    "        return q"
   ]
  },
  {
   "cell_type": "markdown",
   "metadata": {},
   "source": [
    "Now assume that we are given a sequence of joint positions $q_1, ..., q_n$. We want to calculate the corresponding end-effector trajectory in the task space, namely $p_1, ..., p_n$. Using the `GeometricModel1R` class defined above, fill out the code below to generate this sequence of end-effector positions."
   ]
  },
  {
   "cell_type": "code",
   "execution_count": 15,
   "metadata": {},
   "outputs": [
    {
     "data": {
      "text/plain": [
       "'\\nTo be completed\\n'"
      ]
     },
     "execution_count": 15,
     "metadata": {},
     "output_type": "execute_result"
    },
    {
     "data": {
      "image/png": "[encoded data removed]",
      "text/plain": [
       "<Figure size 432x288 with 1 Axes>"
      ]
     },
     "metadata": {
      "needs_background": "light"
     },
     "output_type": "display_data"
    }
   ],
   "source": [
    "import matplotlib.pyplot as plt\n",
    "\n",
    "# Number of steps in the trajectory\n",
    "N = 50\n",
    "\n",
    "# Define the joint space trajectory \n",
    "q = np.sin(np.linspace(0,1,N)*2*np.pi)\n",
    "\n",
    "# This plots the sequence q_1, ..., q_n\n",
    "plt.plot(q, 'bo')\n",
    "plt.title(\"Joint space trajectory\")\n",
    "plt.xlabel(\"Index\")\n",
    "plt.ylabel(\"Joint position (rad)\")\n",
    "\n",
    "# Create `GeometricModel1R` object\n",
    "    ### \n",
    "    ### To be completed\n",
    "    ###\n",
    "\n",
    "# Calculate the sequence p_1, ..., p_n \n",
    "    ### \n",
    "    ### To be completed\n",
    "    ###\n",
    "\n",
    "# Plot the sequence p_1, ..., p_n (plot x and y separately)\n",
    "    ### \n",
    "    ### To be completed\n",
    "    ###"
   ]
  },
  {
   "cell_type": "markdown",
   "metadata": {},
   "source": [
    "Now let us derive the DGM and IGM of the 2R planar robot (2 links, 2 revolute joints). We will derive the maths together and you will have to implement the DGM and IGM functions by yourself ! First we rxpress the position of joint $2$ in the fixed coordinate frame attached to joint $1$ (the robot's base) :\n",
    "\n",
    "$$\n",
    "x_2 = L_1 \\cos(q_1) \\\\\n",
    "y_2 = L_1 \\sin(q_1)\n",
    "$$\n",
    "\n",
    "Then we get the DGM as \n",
    "\n",
    "$$\n",
    "x_p = L_1 \\cos(q_1) + (L_1 + L_2) \\cos(q_2) \\\\\n",
    "y_p = L_1 \\sin(q_1) + (L_1 + L_2) \\sin(q_2)\n",
    "$$\n",
    "\n",
    "Expressing the IGM is a bit more complicated: find $(q_1,q_2)$\n",
    "\n",
    "Teach matrix form + matrix inversion with numpy\n",
    "\n",
    "PD control to compensate gravity 1dof : introduce PD control\n",
    "PD control for 1 dof track circle : PD+\n",
    "\n",
    "Question 1: derive the equations for the 2DoF. \n",
    "Question 2: create 2 robots, place them (base) / initialize, 1 block . Target motion: move block left/right. Find the joint trajectories achieving that (using IGM)\n"
   ]
  },
  {
   "cell_type": "markdown",
   "metadata": {},
   "source": [
    "__Question__ : Write the GeometricModel2R class. You need to implement the DGM and IGM functions as for the GeometricModel1R class."
   ]
  },
  {
   "cell_type": "code",
   "execution_count": null,
   "metadata": {},
   "outputs": [],
   "source": [
    "# Class for the geometric model of the 2R robot\n",
    "class GeometricModel2R:\n",
    "    '''\n",
    "    Environment class for the geometric model of the 1R robot\n",
    "    '''\n",
    "    \n",
    "    def __init__(self, L1, L2):\n",
    "        ''' \n",
    "        Initialize model parameters\n",
    "        '''\n",
    "        self.L1 = L1\n",
    "        self.L2 = L2\n",
    "        \n",
    "    def DGM(self, q1, q2):\n",
    "        '''\n",
    "        Direct geometric model\n",
    "        Input : joint angle (in rad)\n",
    "        Output : end-effector position (in m)\n",
    "        '''\n",
    "        x_p = L*np.cos(q)\n",
    "        y_p = L*np.sin(q)\n",
    "        p = np.array([x_p, y_p])\n",
    "        return p\n",
    "\n",
    "    def IGM(self, p):\n",
    "        '''\n",
    "        Inverse geometric model\n",
    "        Input : end-effector position (in m)\n",
    "        Output : joint angle (in rad)\n",
    "        '''\n",
    "        x_p = p[0]\n",
    "        y_p = p[1]\n",
    "        q = np.arctan2(y_p, x_p)\n",
    "        return q"
   ]
  },
  {
   "cell_type": "markdown",
   "metadata": {},
   "source": [
    "__Question__ : Now generate trajectories of your choice in the joint space (for instance you can define a $\\sin$ as for the 1R example, but feel free to try out different trajectories). Plot them as done before, and calculate and plot the corresponding endeffector trajectory.\n",
    "\n",
    "__Question__ : The other way around, now plot an end-effector trajectory you choose, calculate and plot the corresponding joint trajectories. "
   ]
  },
  {
   "cell_type": "markdown",
   "metadata": {},
   "source": [
    "In this notebook we've introduced the concepts of joint space and task space. We derived and implemented the geometric model of the 1R and 2R robots. However, this description is \"static\", in a sense that it doesn't take into account velocities. The next notebook introduces the kinematic model, which relates velocities in the joint space to end-effector velocities in the task space."
   ]
  }
 ],
 "metadata": {
  "kernelspec": {
   "display_name": "Python 3",
   "language": "python",
   "name": "python3"
  },
  "language_info": {
   "codemirror_mode": {
    "name": "ipython",
    "version": 3
   },
   "file_extension": ".py",
   "mimetype": "text/x-python",
   "name": "python",
   "nbconvert_exporter": "python",
   "pygments_lexer": "ipython3",
   "version": "3.6.9"
  }
 },
 "nbformat": 4,
 "nbformat_minor": 4
}
