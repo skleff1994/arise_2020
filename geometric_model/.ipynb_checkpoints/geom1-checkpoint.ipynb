{
 "cells": [
  {
   "cell_type": "markdown",
   "metadata": {},
   "source": [
    "# Geometric modelling 1 "
   ]
  },
  {
   "cell_type": "markdown",
   "metadata": {},
   "source": [
    "The geometric model of a robot is a set of equations describing the robot's geometry. This enables for instance to calculate the end-effector's position in the workspace based on the joint angles. There are 2 kinds of geometric models:\n",
    "\n",
    "- Direct Geometric Model (DGM) : given joint positions, it gives the position of the end-effector (tool, hand, foot, etc.) with respect to the robot's base \n",
    "\n",
    "- Inverse Geometric Model (IGM) : given an end-effector pose, it gives the joint positions \n",
    "\n",
    "The joint positions are typically denoted by $q$ and belong to __joint space__, whereas the end-effector's pose, typically denoted $p$, belongs to the __task space__ (or cartesian space). So the geometric model is in fact a mapping between the joint space and the task space. We will introduce these concepts more concretely with examples. "
   ]
  },
  {
   "cell_type": "markdown",
   "metadata": {},
   "source": [
    "Consider a simple arm consisting of 1 revolute joint and 1 link. One way to describe the robot configuration is to use the joint angle $q\\in[0,2\\pi[$, which is a joint space description. Knowing $q$, the DGM enables to find the end-effector's position $p$ in the task space ($x$ and $y$ coordinates) with respect to a fixed reference coordinate frame attached to the base. The DGM equations in this case are\n",
    "\n",
    "$$\n",
    "x_p = L \\cos(q) \\\\\n",
    "y_p = L \\sin(q)\n",
    "$$\n",
    "\n",
    "where $(x_p,y_p)$ are the cartesian coordinates of the end-effector and $L$ is the length of the link. The same equations can be expressed more compactly as \n",
    "\n",
    "$$\n",
    "p = DGM(q)\n",
    "$$\n",
    "\n",
    "where $DGM$ is a function taking a joint angle $q$ as an input and outputs a cartesian position $p=(x_p,y_p)$ expressed in the base frame. It is implemented in python as follow"
   ]
  },
  {
   "cell_type": "code",
   "execution_count": 17,
   "metadata": {},
   "outputs": [
    {
     "name": "stdout",
     "output_type": "stream",
     "text": [
      "The end-effector position corresponding to q = 1.7 is : p = [-0.12884449  0.99166481]\n"
     ]
    }
   ],
   "source": [
    "import numpy as np\n",
    "\n",
    "# Define the link length\n",
    "L = 1.\n",
    "\n",
    "# Function corresponding to the direct geometric model\n",
    "def DGM(q):\n",
    "    '''\n",
    "    Input : joint angle (in rad)\n",
    "    Output : end-effector position (in m)\n",
    "    '''\n",
    "    \n",
    "    x_p = L*np.cos(q)\n",
    "    y_p = L*np.sin(q)\n",
    "    \n",
    "    p = np.array([x_p, y_p])\n",
    "    \n",
    "    return p\n",
    "\n",
    "# Test the DGM and display the result\n",
    "q = 1.7\n",
    "p = DGM(q)\n",
    "print(\"The end-effector position corresponding to q = \"+str(q)+\" is : p = \"+str(p))"
   ]
  },
  {
   "cell_type": "markdown",
   "metadata": {},
   "source": [
    "The IGM solves the converse problem: given an end-effector position (task space), it returns the corresponding position. The IGM is derived by inverting the DGM equations, i.e. by expressing $q$ in terms of $p$. The IGM reads\n",
    "\n",
    "$$\n",
    "x_p = L cos(q) \\\\\n",
    "y_p = L sin(q)\n",
    "$$\n",
    "\n",
    "Assuming $cos(q) \\neq 0$ we can divide the second equation by the first equation\n",
    "\n",
    "$$\n",
    "\\frac{y_p}{x_p} = \\frac{\\sin(q)}{\\cos(q)} = \\tan(q)\\\\\n",
    "$$\n",
    "\n",
    "Therefore the IGM reads\n",
    "\n",
    "$$\n",
    "q = tan^{-1}(\\frac{y_p}{x_p})\n",
    "$$\n",
    "\n",
    "The following function implements the IGM"
   ]
  },
  {
   "cell_type": "code",
   "execution_count": 16,
   "metadata": {},
   "outputs": [
    {
     "name": "stdout",
     "output_type": "stream",
     "text": [
      "The joint position corresponding to p=[0.3 0.5] is : q=1.0303768265243125\n"
     ]
    }
   ],
   "source": [
    "# Function corresponding to the inverse geometric model\n",
    "def IGM(p):\n",
    "    '''\n",
    "    Input : end-effector position (in m)\n",
    "    Output : joint angle (in rad)\n",
    "    '''\n",
    "    \n",
    "    x_p = p[0]\n",
    "    y_p = p[1]\n",
    "    \n",
    "    q = np.arctan2(y_p, x_p)\n",
    "    \n",
    "    return q\n",
    "\n",
    "# Test the DGM and display the result\n",
    "p = np.array([0.3, 0.5])\n",
    "q = IGM(p)\n",
    "print(\"The joint position corresponding to p = \"+str(p)+\" is : q = \"+str(q))"
   ]
  },
  {
   "cell_type": "markdown",
   "metadata": {},
   "source": [
    "Now we import a function to visualize the robot in various configurations"
   ]
  },
  {
   "cell_type": "markdown",
   "metadata": {},
   "source": [
    "Now let us derive the DGM and IGM of the 2R planar robot (2 links, 2 revolute joints). We will derive the maths together and you will have to implement the DGM and IGM functions by yourself ! In order to express the end-effector position in the workspace, let us decompose the problem into 2 sub-problems \n",
    "\n",
    "1. Express the position of joint $2$ in the fixed coordinate frame attached to joint $1$ (the robot's base)\n",
    "2. Express the end-effector position in the coordinate frame attached to joint $2$\n",
    "\n",
    "We get \n",
    "$$\n",
    "x_p = L_2 \\cos(q_2) \\\\\n",
    "y_p = L_2 \\sin(q_2)\n",
    "$$\n",
    "\n",
    "$$\n",
    "x_2 = L_1 \\cos(q_1) \\\\\n",
    "y_2 = L_1 \\sin(q_1)\n",
    "$$\n",
    "\n"
   ]
  }
 ],
 "metadata": {
  "kernelspec": {
   "display_name": "Python 3",
   "language": "python",
   "name": "python3"
  },
  "language_info": {
   "codemirror_mode": {
    "name": "ipython",
    "version": 3
   },
   "file_extension": ".py",
   "mimetype": "text/x-python",
   "name": "python",
   "nbconvert_exporter": "python",
   "pygments_lexer": "ipython3",
   "version": "3.6.9"
  }
 },
 "nbformat": 4,
 "nbformat_minor": 4
}
