{
 "cells": [
  {
   "cell_type": "markdown",
   "metadata": {},
   "source": [
    "# Geometric modelling"
   ]
  },
  {
   "cell_type": "markdown",
   "metadata": {},
   "source": [
    "The geometric model of a robot is a set of equations describing how the robot's mechanical components - links and joints - aggregate together into a multi-body system. This enables, for instance, to calculate the end-effector's position and orientation with respect to the base of the robot. Conversely the GM can also be used to deduce joint angles from a given end-effector's position and orientation.\n",
    "\n",
    "of a coordinate frame attached to the end-effector (tool, hand, foot, etc.) with respect to a reference frame attached to the robot's base. In particular, the direct geometric model (DGM) gives \n",
    "\n",
    "Geometric robot model describes the pose (position and orientation) of a coordinate frame attached to the gripper with respect to the reference frame attached to the robot base. In a robot manipulator we only measure the angles of rotational and the distances of the displacements of translational joints. The geometric model must be therefore expressed by the help of joint variables. Geometric models of three robot arms are presented in this chapter.\n",
    " "
   ]
  },
  {
   "cell_type": "code",
   "execution_count": null,
   "metadata": {},
   "outputs": [],
   "source": []
  }
 ],
 "metadata": {
  "kernelspec": {
   "display_name": "Python 3",
   "language": "python",
   "name": "python3"
  },
  "language_info": {
   "codemirror_mode": {
    "name": "ipython",
    "version": 3
   },
   "file_extension": ".py",
   "mimetype": "text/x-python",
   "name": "python",
   "nbconvert_exporter": "python",
   "pygments_lexer": "ipython3",
   "version": "3.6.9"
  }
 },
 "nbformat": 4,
 "nbformat_minor": 4
}
