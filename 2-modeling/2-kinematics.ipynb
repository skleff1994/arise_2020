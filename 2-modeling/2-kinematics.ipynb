{
 "cells": [
  {
   "cell_type": "markdown",
   "metadata": {},
   "source": [
    "# 2. Kinematic modeling "
   ]
  },
  {
   "cell_type": "markdown",
   "metadata": {},
   "source": [
    "The __kinematic model__ of a robot is a set of equations describing the robot's motion. It relates the joint velocities (e.g. angular velocities in $rad/s$ for revolute joints) to the end-effector velocity. Similarily to the geometric model, we define \n",
    "\n",
    "- __Direct Kinematic Model (DKM)__ : given joint velocities, it gives the velocity of the end-effector (tool, hand, foot, etc.) with respect to the robot's base frame\n",
    "\n",
    "- __Inverse Kinematic Model (IKM)__ : given an end-effector velocity (and orientation), it gives the joint velocities \n",
    "\n",
    "If $q$ denotes a joint position, then the corresponding velocity is defined as the derivative $\\dot{q} = \\frac{dq}{dt}$. Similarily, the end-effector velocity is denoted $\\dot{p} = \\frac{d p}{dt} = \\left(\\frac{d x_p}{dt}, \\frac{d y_p}{dt}\\right)$. The kinematic model can also be thought, to some extent, as a mapping between a joint space and a task space. In this notebook, we will study the direct and inverse kinematics of the 1R and 2R robots. \n",
    "\n",
    "__Note__: if you are a bit rusty on derivatives, I suggest you take a look at this [cheatsheet](https://www.mathsisfun.com/calculus/derivatives-rules.html)."
   ]
  },
  {
   "cell_type": "markdown",
   "metadata": {},
   "source": [
    "# 1R robot"
   ]
  },
  {
   "cell_type": "markdown",
   "metadata": {},
   "source": [
    "Consider the simple robot arm consisting of 1 revolute joint and 1 link. "
   ]
  },
  {
   "cell_type": "code",
   "execution_count": 4,
   "metadata": {},
   "outputs": [],
   "source": [
    "## Author: Sebastien\n",
    "## Date : 22/06/2020\n",
    "\n",
    "# Import required packages for this notebook\n",
    "import numpy as np\n",
    "from matplotlib import pyplot as plt\n",
    "import IPython\n",
    "from IPython.display import Image\n",
    "import matplotlib.animation as animation\n",
    "from matplotlib.animation import FuncAnimation\n",
    "\n",
    "np.set_printoptions(precision=4)\n",
    "\n",
    "# If full github repo has been downloaded locally, uncomment these lines\n",
    "# from IPython.display import Image\n",
    "# Image(\"1dof.png\")\n",
    "\n",
    "# Otherwise click on the link below to see the figure"
   ]
  },
  {
   "cell_type": "markdown",
   "metadata": {},
   "source": [
    "<!-- For Colab NB -->\n",
    "[1R robot (click here)](https://drive.google.com/file/d/1aSBG3kNHr6wBTUF9SetZ0xkq7uHdxFpx/view?usp=sharing)"
   ]
  },
  {
   "cell_type": "markdown",
   "metadata": {},
   "source": [
    "The DKM relates $\\dot{q}$ to $\\dot{p}$. In other words, how does the endeffector move when changing the angle $q$. \n",
    "\n",
    "Recall that we already have a relation between $q$ and $p=(x_p,y_p)$ : the DGM. As seen in the previous Notebook, the DGM is a function taking $q$ as an input that outputs $p$. Let us rename the DGM function as $f$. As seen before, the direct geometry of the 1R robot is expressed by the equation\n",
    "\n",
    "$$\n",
    "p = f(q)\n",
    "$$\n",
    "\n",
    "where $f(q)$ is the vector in $\\mathbb{R}^2$ \n",
    "$$\n",
    "f(q) = \\begin{bmatrix} L \\cos(q) \\\\\n",
    "                       L \\sin(q) \\end{bmatrix}\n",
    "$$\n",
    "\n",
    "Taking the derivatives with respect to the time variable $t$ on both sides of the above equation, we obtain \n",
    "\n",
    "$$\n",
    "\\dot{p} = \\frac{d f(q)}{dt}\n",
    "$$\n",
    "\n",
    "Applying the [chain rule](https://www.mathsisfun.com/calculus/derivatives-rules.html) to calculate the right-hand side of the above equation, we get\n",
    "\n",
    "$$\n",
    "\\dot{p} = \\frac{d f(q)}{d q} \\frac{dq}{dt} \\\\\n",
    "\\dot{p} = \\frac{df(q)}{d q} \\dot{q}\n",
    "$$\n",
    "\n",
    "And that's it: the DKM is given by the derivative of the DGM with respect to $q$. Recall the expression of the DGM: we derived \n",
    "\n",
    "$$\n",
    "f(q) = \\begin{bmatrix} L \\cos(q) \\\\\n",
    "                       L \\sin(q) \\end{bmatrix}\n",
    "$$\n",
    "\n",
    "Using [rules of differentiation for trigonometric functions](https://www.mathsisfun.com/calculus/derivatives-rules.html), we get the derivative with respect to $q$ as\n",
    "\n",
    "$$\n",
    " \\frac{d f(q)}{d q} = \\begin{bmatrix} -L \\sin(q) \\\\\n",
    "                                                  L \\cos(q) \\end{bmatrix}\n",
    "$$\n",
    "\n",
    "Therefore the DKM is given by the equation\n",
    "\n",
    "$$\n",
    "\\dot{p} = \\begin{bmatrix} \\dot{x_p} \\\\\n",
    "                \\dot{y_p}\\end{bmatrix} = \\frac{df(q)}{d q} \\dot{q} = \\begin{bmatrix} -L \\sin(q) \\\\\n",
    "                                                                  L \\cos(q) \\end{bmatrix} \\dot{q}\n",
    "$$ \n"
   ]
  },
  {
   "cell_type": "markdown",
   "metadata": {},
   "source": [
    "__Question__ : Complete the DKM function below (using the theoretical results above)"
   ]
  },
  {
   "cell_type": "code",
   "execution_count": 2,
   "metadata": {},
   "outputs": [
    {
     "name": "stdout",
     "output_type": "stream",
     "text": [
      "The end-effector velocity corresponding to qdot = 1.0 is : pdot = [-0.7071  0.7071]\n"
     ]
    }
   ],
   "source": [
    "# Define the link length\n",
    "L = 1.\n",
    "\n",
    "# Function corresponding to the direct kinematic model\n",
    "def DKM(q, qdot):\n",
    "    '''\n",
    "    Input : joint angular position and velocity (in rad and rad/s)\n",
    "    Output : end-effector position (in m/s)\n",
    "    '''\n",
    "    ###\n",
    "    ### Implement here\n",
    "    ###\n",
    "    return pdot\n",
    "\n",
    "# Test the DGM and display the result\n",
    "q = np.pi / 4\n",
    "qdot = 1.\n",
    "pdot = DKM(q, qdot)\n",
    "print(\"The end-effector velocity corresponding to qdot = \"+str(qdot)+\" is : pdot = \"+str(pdot))"
   ]
  },
  {
   "cell_type": "markdown",
   "metadata": {},
   "source": [
    "The IKM solves the converse problem: given an end-effector velocity (task space), it returns the corresponding joint velocity (joint space). However it is not always possible to determine a unique solution to the inverse problem: if the robot is in a particular configuration called a singular configuration, there is no solution! The analysis of inverse kinematics can be tricky so we won't go into details here.\n",
    "\n",
    "__Question__ : What happens when $q=0$ or $\\pi$ ? When $q=\\pi/2$ or $3\\pi/2$ ? (Interpret what is happening to the DGM and DKM in these cases)\n",
    "\n",
    "\n",
    "__Question__ : What can you say about the quantity $x_p^2 + y_p^2$ ? Calculate its derivative with respect to time. \n",
    "\n",
    "\n",
    "__Question__ : Prove the following equality\n",
    "\n",
    "$$\n",
    "\\dot{q} = \\frac{\\dot{y}_p\\cos(q) - \\dot{x}_p\\sin(q)}{L}\n",
    "$$\n",
    "\n",
    "Hint: calculate the time derivative of the IGM using $\\frac{d }{dx}\\tan^{-1}(x) = \\frac{1}{1+x^2}$ in the chain rule."
   ]
  },
  {
   "cell_type": "markdown",
   "metadata": {},
   "source": [
    "__Question__ : Complete the IKM function below (using the theoretical results above)"
   ]
  },
  {
   "cell_type": "code",
   "execution_count": 3,
   "metadata": {},
   "outputs": [
    {
     "name": "stdout",
     "output_type": "stream",
     "text": [
      "The joint velocity corresponding to pdot = [0.  0.5] is : qdot = 0.2701511529340699\n"
     ]
    }
   ],
   "source": [
    "# Function corresponding to the inverse kinematic model\n",
    "def IKM(q, pdot):\n",
    "    '''\n",
    "    Input : joint position (rad), end-effector velocity (m/s)\n",
    "    Output : joint velocity (rad)\n",
    "    '''    \n",
    "    ###\n",
    "    ### Implement here\n",
    "    ###\n",
    "    return qdot\n",
    "\n",
    "# Test the DGM and display the result\n",
    "pdot = np.array([0., 0.5])\n",
    "q = 1.\n",
    "qdot = IKM(q, pdot)\n",
    "print(\"The joint velocity corresponding to pdot = \"+str(pdot)+\" is : qdot = \"+str(qdot))"
   ]
  },
  {
   "cell_type": "markdown",
   "metadata": {},
   "source": [
    "__Question__ : Implement a `KinematicModel1R` class containing DKM and IKM functions provided above. You can take inspiration from the classes implemented in the previous notebook.\n"
   ]
  },
  {
   "cell_type": "code",
   "execution_count": 4,
   "metadata": {},
   "outputs": [],
   "source": [
    "class KinematicModel1R:\n",
    "    '''\n",
    "    Environment class for the 1R robot kinematics\n",
    "    '''\n",
    "    \n",
    "    ### Implement your class here"
   ]
  },
  {
   "cell_type": "markdown",
   "metadata": {},
   "source": [
    "# 2R robot"
   ]
  },
  {
   "cell_type": "markdown",
   "metadata": {},
   "source": [
    "Now let us consider the 2R robot. You will derive its DKM and IKM."
   ]
  },
  {
   "cell_type": "code",
   "execution_count": 5,
   "metadata": {
    "scrolled": false
   },
   "outputs": [],
   "source": [
    "# If full github repo has been downloaded locally, uncomment these lines\n",
    "# from IPython.display import Image\n",
    "# Image(\"2dof.png\")\n",
    "\n",
    "# Otherwise click on the link below to see the figure"
   ]
  },
  {
   "cell_type": "markdown",
   "metadata": {},
   "source": [
    "<!-- For Colab NB -->\n",
    "[2R robot (click here)](https://drive.google.com/file/d/1Pdow1aMbsOGwISPOVpTHg5suiEBJ0y4z/view?usp=sharing)"
   ]
  },
  {
   "cell_type": "markdown",
   "metadata": {},
   "source": [
    "__Question__ : derive the DKM of the 2R robot by differentiating the DGM\n",
    "\n",
    "Hint : Recall the DGM derived in the previous Notebook and see it as as a vector \n",
    "\n",
    "$$\n",
    "p = \\begin{bmatrix}f_1(q) \\\\\n",
    "               f_2(q) \n",
    "       \\end{bmatrix} \n",
    "$$\n",
    "\n",
    "Then the DKM be written under matrix form by differentiating the DGM\n",
    "\n",
    "$$\n",
    "\\dot{p} = J(q)\\dot{q}\n",
    "$$\n",
    "\n",
    "where $J(q)$ is the __Jacobian__ of the 2R robot. It is a $2\\times 2$ matrix containing the partial derivatives of the DKM with respect to $q_1, q_2$, i.e. \n",
    "\n",
    "$$\n",
    "J(q) = \\begin{bmatrix} \\frac{\\partial f_1(q)}{\\partial q_1},~ \\frac{\\partial f_1(q)}{\\partial q_2} \\\\\n",
    "                       \\frac{\\partial f_2(q)}{\\partial q_1},~ \\frac{\\partial f_2(q)}{\\partial q_2} \n",
    "       \\end{bmatrix} \n",
    "$$\n",
    "\n",
    "Note: If you are already familiar with derivatives, the _partial_ derivative is not much different. See an example [here](https://www.mathsisfun.com/calculus/derivatives-partial.html).\n",
    "\n",
    "__Question__: Derive the DKM for the 2R robot by computing the jacobian $J(q)$ for the 2R robot.\n",
    "\n",
    "__Question__: How would you derive the IKM from the previous question? What issues can arise with $J(q)$? For which value(s) of $q$ do they arise?\n",
    "\n",
    "Hint: recall the [_determinant_](https://www.mathsisfun.com/algebra/matrix-determinant.html) of a matrix.\n",
    "\n",
    "\n",
    "__Question__: Implement the direct and inverse kinematic models of the 2R robot (complete the following code).\n",
    "\n",
    "__Answer__:"
   ]
  },
  {
   "cell_type": "code",
   "execution_count": 6,
   "metadata": {},
   "outputs": [],
   "source": [
    "class KinematicModel2R:\n",
    "    '''\n",
    "    Environment class for the 2R robot kinematics\n",
    "    '''\n",
    "    def __init__(self, L1=1., L2=1.):\n",
    "        ''' \n",
    "        Initialize model parameters\n",
    "        '''\n",
    "        self.L1 = L1\n",
    "        self.L2 = L2\n",
    "\n",
    "    def jacobian(self, q):\n",
    "        '''\n",
    "        Calculate the 2x2 Jacobian matrix \n",
    "        Input : joint position q\n",
    "        Output : Jacobian matrix\n",
    "        '''\n",
    "        \n",
    "        ## Implement the jacobian here\n",
    "    \n",
    "    def DKM(self, q, qdot):\n",
    "        '''\n",
    "        Direct Kinematic Model function\n",
    "        Input : joint positions q=(q1,q2) (in rad)\n",
    "        Output : end-effector velocity (in m/s)\n",
    "        '''\n",
    "        ## Implement the DKM here\n",
    "\n",
    "    def IKM(self, q, pdot):\n",
    "        '''\n",
    "        Inverse Kinematic Model function\n",
    "        Input : end-effector velocity (in m and m/s), joint positions q (in rad)\n",
    "        Output : joint velocity (rad/s)\n",
    "        '''\n",
    "        \n",
    "        ## Implement the IKM here\n",
    "    \n",
    "## Test your implementation here\n",
    "    # Test DKM\n",
    "    # Test IKM"
   ]
  },
  {
   "cell_type": "markdown",
   "metadata": {},
   "source": [
    "# Summary\n",
    "\n",
    "We derived the direct and inverse kinematic models of the 1R and 2R robots. This enables to relate velocities in the joint space of the robot to velocities of its end-effector in the task space. The robot kinematics constitutes the basis of trajectory generation and motion planning, as we will see in the next Notebook."
   ]
  },
  {
   "cell_type": "code",
   "execution_count": null,
   "metadata": {},
   "outputs": [],
   "source": []
  }
 ],
 "metadata": {
  "kernelspec": {
   "display_name": "Python 3",
   "language": "python",
   "name": "python3"
  },
  "language_info": {
   "codemirror_mode": {
    "name": "ipython",
    "version": 3
   },
   "file_extension": ".py",
   "mimetype": "text/x-python",
   "name": "python",
   "nbconvert_exporter": "python",
   "pygments_lexer": "ipython3",
   "version": "3.9.1"
  }
 },
 "nbformat": 4,
 "nbformat_minor": 4
}
