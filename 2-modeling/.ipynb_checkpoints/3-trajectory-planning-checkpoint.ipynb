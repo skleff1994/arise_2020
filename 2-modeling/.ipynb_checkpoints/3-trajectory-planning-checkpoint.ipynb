{
 "cells": [
  {
   "cell_type": "markdown",
   "metadata": {},
   "source": [
    "# 3. Trajectory planning "
   ]
  },
  {
   "cell_type": "markdown",
   "metadata": {},
   "source": [
    "__Note__ : In this Notebook we use the materials developed previously (geometry, kinematics) to implement a trajectory planner, so __make sure you understand the previous materials before starting this one__. \n",
    "\n",
    "We've seen how geometric and kinematic modeling relate mathematically motions in the joint space and motions in the task space. The direct problem always yields a unique solution, that is for given joint coordinates there is only one end-effector outcome. But the inverse problem is somehow more tricky, as there may be several joint configurations describing the same end-effector pose (e.g. redundant robot), or worse, it can happen that no solution is defined at all. In this Notebook, we will use the geometric and kinematic models of the 1R and 2R robots derived previously in order to plan trajectories. The trajectory planner will be python class taking a desired end-effector trajectory $(p_0,\\dot{p}_0),...,(p_n,\\dot{p}_n)$ as an input and returning the corresponding joint trajectory $(q_0,\\dot{q}_0),...,(q_n,\\dot{q}_n)$. \n",
    "\n",
    "First we import the necessary modules "
   ]
  },
  {
   "cell_type": "code",
   "execution_count": 1,
   "metadata": {},
   "outputs": [],
   "source": [
    "## Author: Sebastien\n",
    "## Date : 22/06/2020\n",
    "\n",
    "# Import required packages for this notebook\n",
    "import numpy as np\n",
    "from matplotlib import pyplot as plt\n",
    "import IPython\n",
    "from IPython.display import Image\n",
    "import matplotlib.animation as animation\n",
    "from matplotlib.animation import FuncAnimation\n",
    "\n",
    "np.set_printoptions(precision=4)\n",
    "\n",
    "# models.py contains the same classes we defined in the Notebooks\n",
    "#%run kinematics-solution.ipynb\n",
    "#%run geometry-solution.ipynb\n",
    "from models import GeometricModel1R, KinematicModel1R, GeometricModel2R, KinematicModel2R"
   ]
  },
  {
   "cell_type": "markdown",
   "metadata": {},
   "source": [
    "It is convenient to gather the geometric and kinematic models within the same class :"
   ]
  },
  {
   "cell_type": "code",
   "execution_count": 2,
   "metadata": {},
   "outputs": [],
   "source": [
    "class Model1R:\n",
    "    '''\n",
    "    Environment class for the 1R robot kinematics + geometry\n",
    "    '''\n",
    "    def __init__(self, L=1.):\n",
    "        ''' \n",
    "        Initialize model parameters\n",
    "        '''\n",
    "        # Number of joints\n",
    "        self.nq = 1\n",
    "        \n",
    "        # Geometric Model\n",
    "        self.geometry = GeometricModel1R(L)\n",
    "        # Kinematic Model\n",
    "        self.kinematics = KinematicModel1R(L)\n",
    "        \n",
    "    def animate(self, q):\n",
    "        '''\n",
    "        Animate a given sequence of joint positions\n",
    "        '''\n",
    "        self.geometry.animate(q[0,:])"
   ]
  },
  {
   "cell_type": "markdown",
   "metadata": {},
   "source": [
    "The `KinematicPlanner` class is initialized with a robot model (such as `Model1R`). The member function `plan` takes a desired end-effector trajectory $(p_0,\\dot{p}_0),...,(p_n,\\dot{p}_n)$ as an input and computes the corresponding joint space trajectory $(q_0,\\dot{q}_0),...,(q_n,\\dot{q}_n)$.\n",
    "\n",
    "__Question__ : Complete the code of the function `plan` below. \n",
    "\n",
    "Hint: use member functions of `Model1R.geometry` and `Model1R.kinematics`...\n",
    "\n",
    "__Answer__ :"
   ]
  },
  {
   "cell_type": "code",
   "execution_count": 3,
   "metadata": {},
   "outputs": [],
   "source": [
    "# Calculate desired joint trajectory\n",
    "class KinematicPlanner:\n",
    "    \n",
    "    def __init__(self, model=None):\n",
    "        '''\n",
    "        Initialize parameters\n",
    "        '''\n",
    "        # Model (geometry + kinematics) \n",
    "        self.model = model\n",
    "        # Number of joints\n",
    "        self.nq = self.model.nq\n",
    "\n",
    "    def plan(self, p, pdot):\n",
    "        '''\n",
    "        Calculates the desired joint trajectory achieving an input end-effector motion\n",
    "        Input : end-effector positions, velocities\n",
    "        Output : joint positions, velocities\n",
    "        '''\n",
    "        pass"
   ]
  },
  {
   "cell_type": "markdown",
   "metadata": {},
   "source": [
    "Next we show how to use the planner. We first need to define the desired end-effector trajectory (positions and velocities)."
   ]
  },
  {
   "cell_type": "code",
   "execution_count": 4,
   "metadata": {},
   "outputs": [
    {
     "data": {
      "text/plain": [
       "Text(0, 0.5, 'y_p (m)')"
      ]
     },
     "execution_count": 4,
     "metadata": {},
     "output_type": "execute_result"
    },
    {
     "data": {
      "image/png": "[encoded data removed]",
      "text/plain": [
       "<Figure size 432x288 with 1 Axes>"
      ]
     },
     "metadata": {
      "needs_background": "light"
     },
     "output_type": "display_data"
    },
    {
     "data": {
      "image/png": "[encoded data removed]",
      "text/plain": [
       "<Figure size 432x288 with 1 Axes>"
      ]
     },
     "metadata": {
      "needs_background": "light"
     },
     "output_type": "display_data"
    },
    {
     "data": {
      "image/png": "[encoded data removed]",
      "text/plain": [
       "<Figure size 432x288 with 1 Axes>"
      ]
     },
     "metadata": {
      "needs_background": "light"
     },
     "output_type": "display_data"
    }
   ],
   "source": [
    "# Number of points\n",
    "N = 50\n",
    "# Desired end-effector positions p1,...,pN = circle \n",
    "x_p = np.cos(np.linspace(0,1,N)*2*np.pi)\n",
    "y_p = np.sin(np.linspace(0,1,N)*2*np.pi)\n",
    "p = np.array([x_p, y_p])\n",
    "# Desired end-effector velocities pdot1,...,pdotN = constant v\n",
    "v = .5\n",
    "pdot = v*np.array([np.ones(N)]*2)\n",
    "\n",
    "# Plot desired end-effector trajectory\n",
    "    # xdot\n",
    "plt.figure()\n",
    "plt.plot(pdot[0,:], 'go')\n",
    "plt.title(\"EE vel (x)\")\n",
    "plt.ylabel(\"xdot_p (m/s)\")\n",
    "    # ydot\n",
    "plt.figure()\n",
    "plt.plot(pdot[1,:], 'go')\n",
    "plt.title(\"EE vel (y)\")\n",
    "plt.ylabel(\"ydot_p (m/s)\")\n",
    "    # p = (x,y)\n",
    "plt.figure()\n",
    "plt.plot(p[0,:], p[1,:], 'go')\n",
    "plt.title(\"EE pos (x,y)\")\n",
    "plt.xlabel(\"x_p (m)\")\n",
    "plt.ylabel(\"y_p (m)\")"
   ]
  },
  {
   "cell_type": "markdown",
   "metadata": {},
   "source": [
    "Now the `KinematicPlanner` class can be used to calculate the corresponding joint space trajectory (joint positions and velocities). "
   ]
  },
  {
   "cell_type": "code",
   "execution_count": 5,
   "metadata": {},
   "outputs": [
    {
     "ename": "TypeError",
     "evalue": "'NoneType' object is not iterable",
     "output_type": "error",
     "traceback": [
      "\u001b[0;31m---------------------------------------------------------------------------\u001b[0m",
      "\u001b[0;31mTypeError\u001b[0m                                 Traceback (most recent call last)",
      "\u001b[0;32m<ipython-input-5-4538a2e4b0f8>\u001b[0m in \u001b[0;36m<module>\u001b[0;34m\u001b[0m\n\u001b[1;32m      4\u001b[0m \u001b[0mplanner1\u001b[0m \u001b[0;34m=\u001b[0m \u001b[0mKinematicPlanner\u001b[0m\u001b[0;34m(\u001b[0m\u001b[0mmodel1R\u001b[0m\u001b[0;34m)\u001b[0m\u001b[0;34m\u001b[0m\u001b[0;34m\u001b[0m\u001b[0m\n\u001b[1;32m      5\u001b[0m \u001b[0;31m# Plan\u001b[0m\u001b[0;34m\u001b[0m\u001b[0;34m\u001b[0m\u001b[0;34m\u001b[0m\u001b[0m\n\u001b[0;32m----> 6\u001b[0;31m \u001b[0mq\u001b[0m\u001b[0;34m,\u001b[0m \u001b[0mqdot\u001b[0m \u001b[0;34m=\u001b[0m \u001b[0mplanner1\u001b[0m\u001b[0;34m.\u001b[0m\u001b[0mplan\u001b[0m\u001b[0;34m(\u001b[0m\u001b[0mp\u001b[0m\u001b[0;34m,\u001b[0m \u001b[0mpdot\u001b[0m\u001b[0;34m)\u001b[0m\u001b[0;34m\u001b[0m\u001b[0;34m\u001b[0m\u001b[0m\n\u001b[0m\u001b[1;32m      7\u001b[0m \u001b[0;31m# Animate\u001b[0m\u001b[0;34m\u001b[0m\u001b[0;34m\u001b[0m\u001b[0;34m\u001b[0m\u001b[0m\n\u001b[1;32m      8\u001b[0m \u001b[0mmodel1R\u001b[0m\u001b[0;34m.\u001b[0m\u001b[0manimate\u001b[0m\u001b[0;34m(\u001b[0m\u001b[0mq\u001b[0m\u001b[0;34m)\u001b[0m\u001b[0;34m\u001b[0m\u001b[0;34m\u001b[0m\u001b[0m\n",
      "\u001b[0;31mTypeError\u001b[0m: 'NoneType' object is not iterable"
     ]
    }
   ],
   "source": [
    "# Create a full model (geometry + kinematics)\n",
    "model1R = Model1R()\n",
    "# Create kinematic planner\n",
    "planner1 = KinematicPlanner(model1R)\n",
    "# Plan\n",
    "q, qdot = planner1.plan(p, pdot)\n",
    "# Animate \n",
    "model1R.animate(q)\n",
    "# Plot the joint trajectories\n",
    "plt.figure()\n",
    "plt.plot(q[0,:], 'bo')\n",
    "plt.title(\"joint position\")\n",
    "plt.ylabel(\"q (rad)\")\n",
    "    # qdot\n",
    "plt.figure()\n",
    "plt.plot(qdot[0,:], 'bo')\n",
    "plt.title(\"joint velocity\")\n",
    "plt.ylabel(\"qdot (rad/s)\")"
   ]
  },
  {
   "cell_type": "markdown",
   "metadata": {},
   "source": [
    "__Question__ : Implement the `Model2R` based on the `Model1R` example (you can complete the code below). Test your implementation by generating a trajectory using the trajectory planner.\n",
    "\n",
    "__Answer__ : "
   ]
  },
  {
   "cell_type": "code",
   "execution_count": 6,
   "metadata": {},
   "outputs": [],
   "source": [
    "class Model2R:\n",
    "    '''\n",
    "    Environment class for the 2R robot kinematics + geometry\n",
    "    '''\n",
    "    def __init__(self, L1=1., L2=1.):\n",
    "        ''' \n",
    "        Initialize model parameters\n",
    "        '''\n",
    "        pass\n",
    "        \n",
    "    def animate(self, q):\n",
    "        '''\n",
    "        Animate a given sequence of joint positions\n",
    "        '''\n",
    "        pass"
   ]
  },
  {
   "cell_type": "markdown",
   "metadata": {},
   "source": [
    "Now we calculate the joint trajectory using the planner (for the same desired end-effector trajectory as before) + animation and plots."
   ]
  },
  {
   "cell_type": "code",
   "execution_count": 7,
   "metadata": {},
   "outputs": [
    {
     "ename": "AttributeError",
     "evalue": "'Model2R' object has no attribute 'nq'",
     "output_type": "error",
     "traceback": [
      "\u001b[0;31m---------------------------------------------------------------------------\u001b[0m",
      "\u001b[0;31mAttributeError\u001b[0m                            Traceback (most recent call last)",
      "\u001b[0;32m<ipython-input-7-029da7b7aabb>\u001b[0m in \u001b[0;36m<module>\u001b[0;34m\u001b[0m\n\u001b[1;32m      2\u001b[0m \u001b[0mmodel2R\u001b[0m \u001b[0;34m=\u001b[0m \u001b[0mModel2R\u001b[0m\u001b[0;34m(\u001b[0m\u001b[0;34m)\u001b[0m\u001b[0;34m\u001b[0m\u001b[0;34m\u001b[0m\u001b[0m\n\u001b[1;32m      3\u001b[0m \u001b[0;31m# Create planner\u001b[0m\u001b[0;34m\u001b[0m\u001b[0;34m\u001b[0m\u001b[0;34m\u001b[0m\u001b[0m\n\u001b[0;32m----> 4\u001b[0;31m \u001b[0mplanner2\u001b[0m \u001b[0;34m=\u001b[0m \u001b[0mKinematicPlanner\u001b[0m\u001b[0;34m(\u001b[0m\u001b[0mmodel2R\u001b[0m\u001b[0;34m)\u001b[0m\u001b[0;34m\u001b[0m\u001b[0;34m\u001b[0m\u001b[0m\n\u001b[0m\u001b[1;32m      5\u001b[0m \u001b[0;31m# Plan\u001b[0m\u001b[0;34m\u001b[0m\u001b[0;34m\u001b[0m\u001b[0;34m\u001b[0m\u001b[0m\n\u001b[1;32m      6\u001b[0m \u001b[0mq\u001b[0m\u001b[0;34m,\u001b[0m \u001b[0mqdot\u001b[0m \u001b[0;34m=\u001b[0m \u001b[0mplanner2\u001b[0m\u001b[0;34m.\u001b[0m\u001b[0mplan\u001b[0m\u001b[0;34m(\u001b[0m\u001b[0mp\u001b[0m\u001b[0;34m,\u001b[0m \u001b[0mpdot\u001b[0m\u001b[0;34m)\u001b[0m\u001b[0;34m\u001b[0m\u001b[0;34m\u001b[0m\u001b[0m\n",
      "\u001b[0;32m<ipython-input-3-73fe882f1b33>\u001b[0m in \u001b[0;36m__init__\u001b[0;34m(self, model)\u001b[0m\n\u001b[1;32m      9\u001b[0m         \u001b[0mself\u001b[0m\u001b[0;34m.\u001b[0m\u001b[0mmodel\u001b[0m \u001b[0;34m=\u001b[0m \u001b[0mmodel\u001b[0m\u001b[0;34m\u001b[0m\u001b[0;34m\u001b[0m\u001b[0m\n\u001b[1;32m     10\u001b[0m         \u001b[0;31m# Number of joints\u001b[0m\u001b[0;34m\u001b[0m\u001b[0;34m\u001b[0m\u001b[0;34m\u001b[0m\u001b[0m\n\u001b[0;32m---> 11\u001b[0;31m         \u001b[0mself\u001b[0m\u001b[0;34m.\u001b[0m\u001b[0mnq\u001b[0m \u001b[0;34m=\u001b[0m \u001b[0mself\u001b[0m\u001b[0;34m.\u001b[0m\u001b[0mmodel\u001b[0m\u001b[0;34m.\u001b[0m\u001b[0mnq\u001b[0m\u001b[0;34m\u001b[0m\u001b[0;34m\u001b[0m\u001b[0m\n\u001b[0m\u001b[1;32m     12\u001b[0m \u001b[0;34m\u001b[0m\u001b[0m\n\u001b[1;32m     13\u001b[0m     \u001b[0;32mdef\u001b[0m \u001b[0mplan\u001b[0m\u001b[0;34m(\u001b[0m\u001b[0mself\u001b[0m\u001b[0;34m,\u001b[0m \u001b[0mp\u001b[0m\u001b[0;34m,\u001b[0m \u001b[0mpdot\u001b[0m\u001b[0;34m)\u001b[0m\u001b[0;34m:\u001b[0m\u001b[0;34m\u001b[0m\u001b[0;34m\u001b[0m\u001b[0m\n",
      "\u001b[0;31mAttributeError\u001b[0m: 'Model2R' object has no attribute 'nq'"
     ]
    }
   ],
   "source": [
    "# Create a full model (geometry + kinematics) of the 2R robot\n",
    "model2R = Model2R()\n",
    "# Create planner\n",
    "planner2 = KinematicPlanner(model2R)\n",
    "# Plan\n",
    "q, qdot = planner2.plan(p, pdot)\n",
    "# Animate\n",
    "model2R.animate(q)\n",
    "# Plot the joint trajectories\n",
    "    # q\n",
    "plt.figure()\n",
    "plt.plot(q[0,:], 'bo', label='q1')\n",
    "plt.title(\"joint positions\")\n",
    "plt.ylabel(\"q (rad)\")\n",
    "plt.plot(q[1,:], 'ro', label='q2')\n",
    "plt.legend()\n",
    "    # qdot\n",
    "plt.figure()\n",
    "plt.plot(qdot[0,:], 'bo', label='q1')\n",
    "plt.title(\"joint positions\")\n",
    "plt.ylabel(\"q (rad)\")\n",
    "plt.plot(qdot[1,:], 'ro', label='q2')\n",
    "plt.legend()"
   ]
  },
  {
   "cell_type": "markdown",
   "metadata": {},
   "source": [
    "Congratulations ! You completed the geometry and kinematics part. The next Notebook will introduce the dynamic model. While the kinematic model describes motions in terms of velocities, it doesn't involve what _causes_ of those motions. The dynamic model completes the picture by including mechanical efforts applied on the robot. More specifically, it relates forces and torques in the actuators to joint space motions."
   ]
  }
 ],
 "metadata": {
  "kernelspec": {
   "display_name": "Python 3",
   "language": "python",
   "name": "python3"
  },
  "language_info": {
   "codemirror_mode": {
    "name": "ipython",
    "version": 3
   },
   "file_extension": ".py",
   "mimetype": "text/x-python",
   "name": "python",
   "nbconvert_exporter": "python",
   "pygments_lexer": "ipython3",
   "version": "3.6.9"
  }
 },
 "nbformat": 4,
 "nbformat_minor": 4
}
