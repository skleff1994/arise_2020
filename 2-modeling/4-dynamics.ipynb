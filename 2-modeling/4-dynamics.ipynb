{
 "cells": [
  {
   "cell_type": "markdown",
   "metadata": {},
   "source": [
    "# 4. Dynamics\n",
    "\n",
    "In this Notebook we will introduce the __dynamic model__, also commonly referred as the __dynamics__. The dynamic model relates the forces/torques applied in the robot's actuators to the joint positions, velocities and accelerations. Similarily to the geometric and kinematic model, there are two kinds of dynamic models:\n",
    "\n",
    "- __Direct Dynamic Model (DDM)__ : given joint positions $q$, velocities $\\dot{q}=\\frac{dq}{dt}$ and torques $\\tau$, it enables to calculate the resulting joint accelerations $\\ddot{q}=\\frac{d \\dot{q}}{dt}$\n",
    "- __Inverse Dynamic Model (IDM)__ : given a joint positions $q$, velocities $\\dot{q}=\\frac{dq}{dt}$ and accelerations $\\ddot{q}=\\frac{d \\dot{q}}{dt}$, it enables to calculate the torques $\\tau$\n",
    "\n",
    "__Note__ : you may want to review [Newton's Laws of Motion](https://en.wikipedia.org/wiki/Newton%27s_laws_of_motion) and the notion of [torque](https://www.grc.nasa.gov/WWW/K-12/airplane/torque.html) before starting this Notebook"
   ]
  },
  {
   "cell_type": "code",
   "execution_count": 1,
   "metadata": {},
   "outputs": [],
   "source": [
    "## This is the implementation of a 1 degree of freedom arm\n",
    "## Author: Avadesh Meduri\n",
    "## Date : 21/06/2020\n",
    "\n",
    "import numpy as np\n",
    "from matplotlib import pyplot as plt\n",
    "\n",
    "# these packages for animating the robot env\n",
    "import IPython\n",
    "import matplotlib.pyplot as plt\n",
    "import matplotlib.animation as animation\n",
    "from matplotlib.animation import FuncAnimation\n"
   ]
  },
  {
   "cell_type": "markdown",
   "metadata": {},
   "source": [
    "In order to execute some desired motion, we need to tell each actuator which contribution it should bring to the overall joint space motion. The commands ultimately sent to the robot's actuators are the typically motor currents (eletrical actuation) or pistons fluid pressure (hydraulic actuation). But on a higher level, what causes these motion are forces and torques output by the actuators, regardless of how they internally function. So for now, we will disgard the low-level actuation process and assume \"ideal\" actuators than generate directly a force or a torque when commanded so.   \n",
    "\n",
    "## 1R Robot : Dynamic Modeling\n",
    "\n",
    "Now let us take again the example of the 1R robot. \n",
    "\n",
    "__Important note: the angle convention used in the following (i.e. $q$ measured w.r.t. $y$-axis) is different than the one we used in the previous notebooks on modeling (i.e. $q$ measured w.r.t. $x$-axis). The present convention is the most common for analyzing the simple pendulum system__\n",
    "\n",
    "<!-- For Colab NB -->\n",
    "[Pendulum image (click here)](https://drive.google.com/uc?id=1fNrxgrN7MREa6VjCLJrlIGtEfN_febv3)"
   ]
  },
  {
   "cell_type": "code",
   "execution_count": 4,
   "metadata": {},
   "outputs": [],
   "source": [
    "# # If full github repo has been downloaded locally\n",
    "# from IPython.display import Image\n",
    "# # Display the 1R robot\n",
    "# Image(\"pendulum.png\")"
   ]
  },
  {
   "cell_type": "markdown",
   "metadata": {},
   "source": [
    "Neglecting the details of the actuation, the rotational joint at $O$ can be viewed as a pure torque source. The torque $\\tau$, together with the effect of gravity acting at point $G$ (tip of the rod), generates an angular acceleration $\\ddot{q}$. These two quantities satisfy [Euler's law](https://en.wikipedia.org/wiki/Euler%27s_laws_of_motion) :\n",
    "\n",
    "$$\n",
    "\\tau + \\sum \\vec{M}_O(\\vec{F}) = I \\ddot{q}\n",
    "$$\n",
    "\n",
    "where \n",
    "- $ \\sum \\vec{M}_O(\\vec{F})$ represent the sum of the moments of external forces applied on the robot, taken with respect to the base / origin point $O$\n",
    "- $I$ is the [inertia](https://en.wikipedia.org/wiki/List_of_moments_of_inertia) of the link (in $kg.m^2.s^2$)\n",
    "\n",
    "Here the only external force applied on the robot is gravity, acting at the center of mass $G$ and given by $\\vec{F}_{gravity} = -mg \\vec{y}$ (red arrow in the picture). \n",
    "\n",
    "__Question__ : Assuming that $\\|\\vec{OG}\\| = L$, what it the moment due to gravity about $O$ ? \n",
    "\n",
    "Hint: Use the definition of the [moment of a force about a point](https://www.miniphysics.com/moment-of-force.html)\n",
    "\n",
    "__Question__ : Knowing the moment of gravity, how to deduce the DDM / IDM ?\n",
    "\n",
    "\n",
    "__Question__ : The class below implements the DDM / IDM of the 1R robot. Complete the code. Use $I=\\frac{1}{3}mL^2$."
   ]
  },
  {
   "cell_type": "code",
   "execution_count": 5,
   "metadata": {},
   "outputs": [],
   "source": [
    "class DynamicModel1R:\n",
    "    \n",
    "    def __init__(self, length, mass):\n",
    "        '''\n",
    "        This function initialises the class OneDOFManipulatorEnv\n",
    "        Input:\n",
    "            length : lenght of the arm\n",
    "            mass : mass of the rod\n",
    "        '''\n",
    "        \n",
    "        self.length = length\n",
    "        self.dt = 0.001 # discretization step in seconds\n",
    "        self.g = 9.81 # gravity vector\n",
    "        self.m = mass\n",
    "        # Computing the intertia of the rod about an axis\n",
    "        # fixed at the end (1/3)ml^2\n",
    "        # >> Implement here the class attribute for inertia I\n",
    "        \n",
    "    def DDM(self, q, v, tau):\n",
    "        '''\n",
    "        This function computes the direct dynamics model (DDM) of the manipulator given\n",
    "        the current state of (Joint Position q, Joint Velocity v) and torque tau\n",
    "        Input:\n",
    "            q   : joint position \n",
    "            v   : joint velocity\n",
    "            tau : joint torque\n",
    "        Output:\n",
    "            a   : joint acceleration\n",
    "        '''\n",
    "        \n",
    "        # converting q from degree to radians\n",
    "        # return acceleration\n",
    "        pass\n",
    "\n",
    "    def IDM(self, q, v, a):\n",
    "        '''\n",
    "        This function computes the inverse dynamics model (IDM) of the manipulator given\n",
    "        the current state of (Joint Position q, Joint Velocity v) and acceleration a\n",
    "        Input:\n",
    "            q : joint position \n",
    "            v : joint velocity\n",
    "            a : joint acceleration\n",
    "        Output:\n",
    "            tau : joint torque\n",
    "        '''\n",
    "        \n",
    "        # converting from degree to radians\n",
    "        # return torque\n",
    "        pass"
   ]
  },
  {
   "cell_type": "markdown",
   "metadata": {},
   "source": [
    "## Continuous-Time Dynamics \n",
    "\n",
    "The DDM equation belongs to a well-known family of equations in mathematics: it is a _continuous-time_ Ordinary [Differential Equation](https://www.mathsisfun.com/calculus/differential-equations.html) (ODE). It means that it describes the evolution of the robot (or the _system_) throughout time, represented by a continuous variable $t$ (i.e. a real number: $t\\in\\mathbb{R}$). The dynamics of the 1R robot implemented above can indeed be written under the general form \n",
    "\n",
    "$$\n",
    "\\dot x(t) = f(x(t),u(t))~~~\\text{for}~t\\in\\mathbb{R} \n",
    "$$\n",
    "\n",
    "where $x=[q,v]^T$ is called the _state_ (joint position, velocity), $u=\\tau$ is called the _control input_ (torque) and $t$ is the _continuous time variable_. Given a control input __trajectory__ $u(t)$ (i.e. a joint torque signal), a _solution_ to this ODE is a state __trajectory__ $x(t)$ (i.e. joint position and velocity signals) that satisfies the above equation, i.e. $\\frac{dx}{dt}=f(x(t),u(t))$.\n",
    "\n",
    "__Question__ : Write the continuous-time ODE in matrix form using the given definitions of the state and control variables. It should look like \n",
    "\n",
    "$$\n",
    "\\dot x = \\begin{bmatrix} \n",
    "            f_1(x) \\\\\n",
    "            f_2(x,u)\n",
    "         \\end{bmatrix}\n",
    "$$ \n",
    "\n",
    "where $f_1,f_2$ are functions of $q,v,\\tau$ to be determined from the DDM.\n",
    "\n",
    "__Hint__ : The left-hand side is $\\dot x = [\\dot q, \\dot v]^T$, and we know that by definition $\\dot v = \\ddot q$ (joint acceleration). Use the DDM equation found earlier (and some logic) to deduce what $f_1,f_2$ should be in the right-hand side.\n",
    "\n",
    "## Discretization \n",
    "\n",
    "In order to be able to simulate the system in a program, we need to transform this continuous-time ODE into a _discrete-time_ ODE where $t=1,2,...$ (i.e. where $t$ is an integer). This procedure is called _discretization_ (or _integration_) and is crucial to understand how simulations work. The [Euler discretization](https://en.wikipedia.org/wiki/Euler_method) with timestep $\\Delta t>0$ (expressed in seconds) transforms the ODE into  \n",
    "\n",
    "$$\n",
    "x_{n+1} = x_n + f(x_n,u_n)\\Delta t~~~\\text{for}~n=0,1,2,...\n",
    "$$\n",
    "\n",
    "which is a good approximation of the continuous time model whenever $\\Delta t$ is small. Given a control input __sequence__ $u_0,u_1,...$ (i.e. a joint torque sequence), the _solution_ to this discrete ODE is a state __sequence__ $x_0, x_1, ...$ (i.e. joint position and velocity sequences). We will use this discretized model to simulate robot, that is to calculate the sequence of $x_n$'s given an initial state $x_0$ and a finite control sequence $u_0,...,u_N$.   \n",
    "\n",
    "__Question__ : Say we chose some $\\Delta t$ and a number of simulation steps $N$. What does the quantity $N\\Delta t$ represent?\n",
    "\n",
    "\n",
    "__Question__ : Implement a member function `step` in the class `DynamicModel1R` that implements the discrete time ODE shown above. It should take the current state $x_n$, control $u_n$ and discretization step $\\Delta t$ as an input and return the next state $x_{n+1}$.\n",
    "\n",
    "__Hint__ : In your implementation, use the DDM."
   ]
  },
  {
   "cell_type": "code",
   "execution_count": 4,
   "metadata": {},
   "outputs": [
    {
     "ename": "IndentationError",
     "evalue": "expected an indented block (<ipython-input-4-d98ecb41d796>, line 3)",
     "output_type": "error",
     "traceback": [
      "\u001b[0;36m  File \u001b[0;32m\"<ipython-input-4-d98ecb41d796>\"\u001b[0;36m, line \u001b[0;32m3\u001b[0m\n\u001b[0;31m    ''' !!! Copy-paste here the functions you implemented previously : __init__, DDM, IDM !!! '''\u001b[0m\n\u001b[0m                                                                                                ^\u001b[0m\n\u001b[0;31mIndentationError\u001b[0m\u001b[0;31m:\u001b[0m expected an indented block\n"
     ]
    }
   ],
   "source": [
    "class DynamicModel1R:\n",
    "    \n",
    "''' !!! Copy-paste here the functions you implemented previously : __init__, DDM, IDM !!! '''\n",
    "\n",
    "    def step(self, q_n, v_n, tau_n, dt):\n",
    "        '''\n",
    "        This function integrates the dynamics of the manipulator for one time step of duration dt \n",
    "        using the Euler discretization method\n",
    "        Input:\n",
    "            q_n   : joint position at current time step n\n",
    "            v_n   : joint velocity at current time step n\n",
    "            tau_n : torque applied at the end of manipulator at current time step n\n",
    "            dt    : Euler discretization step (the \"Delta t\")\n",
    "        Output:\n",
    "            q_np1 : next position\n",
    "            v_np1 : next velocity\n",
    "        '''\n",
    "        pass"
   ]
  },
  {
   "cell_type": "markdown",
   "metadata": {},
   "source": [
    "## Simulation of the 1R robot\n",
    "\n",
    "Now we have all the ingredients to simulate the 1R robot ! \n",
    "\n",
    "__Question__ : Using the `DynamicModel1R.step` function you just implemented, write a python script that \n",
    "- instantiates the `DynamicModel1R` class \n",
    "- given some initial state $x_0 = [q_0,v_0]^T$ of your choice, it simulates a user-defined control sequence $u_0,u_2...,u_N$ where $N$ is the total number of steps in the trajectory\n",
    "- stores the trajectory obtained with the simulation $x_0=[q_0,v_0]^T, ..., x_{N+1}=[q_{N+1},v_{N+1}]^T$ (output of the `step` function) \n",
    "- plots nicely the control and state trajectories with legend, titles, axis titles, etc.\n",
    "\n",
    "Try first with a zero torque sequence, i.e. $u_0,...,u_N = 0,...,0$. Set $\\Delta t=0.001s$ and $N=10000$ ($10s$ simulation). Then feel free to try out different values of $N$ and $\\Delta t$ and to change the control sequence.\n",
    "\n",
    "__Hint__ : Use a `for` loop on $N$ and call `DynamicModel1R.step` at each cycle."
   ]
  },
  {
   "cell_type": "code",
   "execution_count": 6,
   "metadata": {},
   "outputs": [],
   "source": [
    "# Create robot model\n",
    "\n",
    "# SIMULATION\n",
    "\n",
    "# PLOTS"
   ]
  },
  {
   "cell_type": "markdown",
   "metadata": {},
   "source": [
    "__Bonus question__ : Set a larger $N$ (e.g. $10^6$), what do you observe ? What is happening ?"
   ]
  },
  {
   "cell_type": "markdown",
   "metadata": {},
   "source": [
    "## Simulation using Inverse Dynamics \n",
    "\n",
    "Now the torque sent to the 1R robot doesn't seem to achieve anything special. This is because we input \"random\" joint torques... What if we want to generate, say, a circle trajectory as we did using the kinematic planner ? Which torque to sequence to use in this case ? The IDM can be used for this purpose: this technique is called __inverse dynamics__. It gives us the torque $\\tau$ that must be applied to achieve a desired motion $q,\\dot{q},\\ddot{q}$.\n",
    "\n",
    "__Question__ : Using the class `DynamicModel1R`, write a script that : \n",
    "- 1. Calculates the sequence of torques realizing a circle trajectory with $\\ddot q = 0$.\n",
    "\n",
    "__Hint__: Use the `Model1R` and `KinematicPlanner` classes from the previous Notebook to determine the desired $q,\\dot{q}$.\n",
    "\n",
    "- 2. Simulates the obtained sequence of torque and plot everything \n",
    "\n",
    "__Hint__: Re-use most of the simulation and plotting scripts from the previous question"
   ]
  },
  {
   "cell_type": "code",
   "execution_count": 6,
   "metadata": {},
   "outputs": [],
   "source": [
    "# Using results from the previous notebook\n",
    "  # Colab\n",
    "# from google.colab import drive\n",
    "# drive.mount('/content/drive')\n",
    "# import sys\n",
    "# sys.path.append('/content/drive/My Drive')\n",
    "from models import Model1R, KinematicPlanner\n",
    "\n",
    "# Simulation parameters (N,dt)\n",
    "\n",
    "# PLAN TRAJECTORY using KINEMATICS\n",
    "\n",
    "# FIND TORQUES using INVERSE DYNAMICS\n",
    "\n",
    "# SIMULATION\n",
    "    \n",
    "# PLOTS"
   ]
  }
 ],
 "metadata": {
  "kernelspec": {
   "display_name": "Python 3",
   "language": "python",
   "name": "python3"
  },
  "language_info": {
   "codemirror_mode": {
    "name": "ipython",
    "version": 3
   },
   "file_extension": ".py",
   "mimetype": "text/x-python",
   "name": "python",
   "nbconvert_exporter": "python",
   "pygments_lexer": "ipython3",
   "version": "3.6.9"
  }
 },
 "nbformat": 4,
 "nbformat_minor": 2
}
