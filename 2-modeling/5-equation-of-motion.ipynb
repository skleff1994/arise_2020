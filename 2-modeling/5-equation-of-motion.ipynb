{
 "cells": [
  {
   "cell_type": "markdown",
   "metadata": {
    "id": "rcIHFgCW47Un"
   },
   "source": [
    "# 5. Equation of motion\n",
    "\n",
    "In this notebook we introduce the equation of motion. The equation of motion describe how an object moves in space as a function of time.\n",
    "\n",
    "There are two sets of equations we will look at: First we will look at the evolution of position in 1D. Then, we will look at the analogous setup for rotational motion. The rotational motion is interesting to us as it describes the motion of the rotating joints of our robots."
   ]
  },
  {
   "cell_type": "markdown",
   "metadata": {
    "id": "zLPN7fux47Uq"
   },
   "source": [
    "## Pushing a car\n",
    "\n",
    "### Introduction\n",
    "\n",
    "To understand the equation of motion, we will draw on the example of pushing a car on a flat street without incline. Let's assume the car has a mass of 1000 kg. The question we want to answer is this: When we push the car, how will it move?\n",
    "\n",
    "When we push the car continously, we apply a force $F$ on the car. In the following we will look at the motion of the car in 1D. I assume you have heard the terms __velocity__ $v$ (the speed of the car) and __acceleration__ $a$. But how does these quantities related to the __position__ $x$ of the car? And how does the force we apply on the car play in here? And how do these quantities change as a function of time?\n",
    "\n",
    "### Velocity and position\n",
    "\n",
    "Let's start with the relation between velocity and position first. Assume you are starting at $t=0$ from a starting position $x(t=0) = 0~\\text{m}$ and your goal is to cross a distance of $100~\\text{m}$. Let's assume for for now you are moving with constant velocity $v$. In one instance you are moving with a velocity of $v = 10~\\frac{\\text{m}}{\\text{s}}$. How long will it take you to cross the $100~\\text{m}$?\n",
    "\n",
    "Note that the unit for velocity is distance over time and in this case meter per seconds $\\frac{\\text{m}}{\\text{s}}$. When you are driving a car you might be more familiar with \"miles per hour\", which is another way to express the velocity. \n",
    "\n",
    "In physics, units are very important and they give you a hint how to compute quantities. In the case above, we have the unit $\\frac{\\text{m}}{\\text{s}}$ and to arrive at a unit of distance in meters $\\text{m}$, we see that we need to multiply with a unit of time in seconds $\\text{s}$:\n",
    "\n",
    "$$\n",
    "[\\text{m}] = \\left[\\frac{\\text{m}}{\\text{s}}\\right] [\\text{s}].\n",
    "$$\n",
    "\n",
    "We can use the last equation to solve for $\\text{s}$ as if it was normal variables. If we multiply both sides with the inverse of the velocity $\\left(\\frac{\\text{m}}{\\text{s}}\\right)^{-1} = \\frac{\\text{s}}{\\text{m}}$, we get\n",
    "\n",
    "$$\n",
    "[\\text{m}] \\left[\\frac{\\text{s}}{\\text{m}}\\right] = [\\text{s}]\n",
    "$$\n",
    "\n",
    "From this last equation we see, that we need to multiply our distance with the inverse of the velocity to get a duration. Let's do this for our example above. Let's assume we want to find the required travel time $\\text{t}$ for our $100~\\text{m}$ distance. Then we have:\n",
    "\n",
    "$$\n",
    "100~\\text{m} = 10~\\frac{\\text{m}}{\\text{s}} * \\text{t}\n",
    "$$\n",
    "\n",
    "and multiplying both sides by the inverse of the velocity we find:\n",
    "\n",
    "\\begin{align}\n",
    "100~\\text{m} * \\frac{1}{10}~\\frac{\\text{s}}{\\text{m}} &= \\text{t} \\\\\n",
    "10~\\text{s} &= \\text{t}.\n",
    "\\end{align}\n",
    "\n",
    "Therefore, the time to travel 100 meter using a velocity of 10 meters per second is 10 seconds.\n",
    "\n",
    "From this, we can write down our first relationship for equation of motions: The relation between position traveled $x$, velocity $v$ and travel time $t$ is given by:\n",
    "\n",
    "$$\n",
    "    x = v * t.\n",
    "$$\n",
    "\n",
    "Note that we assume the velocity to be constant above.\n",
    "\n",
    "__Question__: Assume the same setup as above. Assume you want to travel 200 meters using a velocity of 10 meter per seconds. How long will it take you?\n",
    "\n",
    "__Question__: Assume the same setup as above. Assume you want to travel 200 meters in 5 seconds at constant velocity. What's the required velocity for this?\n",
    "\n",
    "\n",
    "Another way to write this last equation is by using the relationship between the position, the velocity and time. Basically, we see that the velocity is the derivative of the position with respect to time. So we can write:\n",
    "\n",
    "$$\n",
    "    x = v * t = \\frac{dx}{dt} * t\n",
    "$$\n",
    "\n",
    "The derivative with respect to time is often written as a dot above the variable. The following two notions mean the same:\n",
    "\n",
    "$$\n",
    "    \\dot{x} \\equiv \\frac{dx}{dt} \\equiv v\n",
    "$$\n",
    "\n",
    "\n"
   ]
  },
  {
   "cell_type": "markdown",
   "metadata": {
    "id": "kqpo4iPB47Ut"
   },
   "source": [
    "### Velocity and acceleration"
   ]
  },
  {
   "cell_type": "markdown",
   "metadata": {
    "id": "l66YEhyw47Uu"
   },
   "source": [
    "In our example so far we assumed the velocity is constant. This is not always the case when you are driving a car: The velocity is changing over time. When you are driving on a flat street and don't push the gas paddle, the car will come to a stop eventually. This is because friction (from the air, between the wheels and the road, ...) will slow down the car over time. There is a point on the gas paddle where the motor just compensates for all kind of frictions and the velocity is constant. The car is not accelerating. In contrast, when you push the gas paddle all the way down, the car will accelerate quickly and the velocity increases.\n",
    "\n",
    "From this intuition you see that there is a relation between the velocity $v$ and the acceleration $a$. The relationship is given by:\n",
    "\n",
    "$$\n",
    "v = a * t\n",
    "$$\n",
    "\n",
    "for constant acceleration $a$. The unit for velocity is $\\frac{\\text{m}}{\\text{s}}$, the units for acceleration is $\\frac{\\text{m}}{\\text{s}^2}$. \n",
    "\n",
    "__Question:__ Assume the car is at rest at $t=0~\\text{s}$ and you apply a constant acceleration of $10~\\frac{\\text{m}}{\\text{s}^2}$. Ignore all kinds of friction and other effects acting on the car. What will be the speed of the car after 5 seconds?\n",
    "\n",
    "__Question:__ You see a car accelorating at $20~\\frac{\\text{m}}{\\text{s}^2}$. How long will it take until it reaches a velocity of $200~\\frac{\\text{m}}{\\text{s}}$? Assume you can ignore all other effects acting on the car like friciton etc.\n",
    "\n",
    "Similar as before, we can write the relationship between the velocity and the acceleration again as a derivative. This leads to:\n",
    "\n",
    "$$\n",
    "    \\dot{v} \\equiv \\frac{dv}{dt} \\equiv a\n",
    "$$\n"
   ]
  },
  {
   "cell_type": "markdown",
   "metadata": {
    "id": "pUbhreyr47Uv"
   },
   "source": [
    "### Acceleration and force"
   ]
  },
  {
   "cell_type": "markdown",
   "metadata": {
    "id": "Eedo6eai47Uv"
   },
   "source": [
    "Sometimes a car breaks down and it needs to be moved manually. This can be done by loosening the breaks of the car and pushing it by hand. During this process, a force $F$ gets applied on the car. If you don't apply a force, the car will come to a stop eventually (assuming flat ground) because of friction acting on the car. If you overcome the friction, the car's speed will increase.\n",
    "\n",
    "There seems to be a relation between the car's mass in $\\text{kg}$ and its change of velocity when you push it: If the car is heavy, you will need to apply more force to move the car than when it's lighter.\n",
    "\n",
    "In general, we find the relationship between the force $F$ that is applied on a car and its acceleration $a$ as follows:\n",
    "\n",
    "$$\n",
    "\\text{a} = \\frac{\\text{F}}{\\text{m}}\n",
    "$$\n",
    "\n",
    "or often written in this form:\n",
    "\n",
    "$$\n",
    "\\text{F} =\\text{m} * \\text{a}\n",
    "$$\n",
    "\n",
    "The unit of force is Newton, written as $\\text{N}$, for instance $200~\\text{N}$.\n",
    "\n",
    "__Question:__ From the last equation, if you want to have the same acceleration but the car is twice as heavy (the mass is twice as large), how much force will you need to apply?\n",
    "\n",
    "__Question:__ We see a car of mass $2000~\\text{kg}$ slowing down at $5~\\frac{\\text{m}}{\\text{s}^2}$. What is the force acting on the car (e.g. from the car's brakes)?\n",
    "\n"
   ]
  },
  {
   "cell_type": "markdown",
   "metadata": {
    "id": "gZ7mgmVd47Uw"
   },
   "source": [
    "### Non-constant quantities"
   ]
  },
  {
   "cell_type": "markdown",
   "metadata": {
    "id": "FBjYFqJN47Uw"
   },
   "source": [
    "So far we assumed always constant velocity/acceleration/force over time and that the car was starting from a rest position. How can we compute quantities when properties of the car are changing?\n",
    "\n",
    "The idea is to look at a small time window $\\Delta t$ and treat the quantities acting on the car as fixed during this small time window. \n",
    "\n",
    "For instance, let's assume the car is at rest and then we accelorate it for 0.5 s at $5~\\frac{\\text{m}}{\\text{s}^2}$, then for 0.5 s at $10~\\frac{\\text{m}}{\\text{s}^2}$ and then break for 0.5 seconds at $-5~\\frac{\\text{m}}{\\text{s}^2}$. What is the final velocity after 1.5 seconds?\n",
    "\n",
    "In this example, we choose $\\Delta t=0.5~\\text{s}$. We assumed the initial velocity is zero, so we have\n",
    "\n",
    "$$\n",
    "v(t=0~\\text{s}) = 0~\\frac{\\text{m}}{\\text{s}}\n",
    "$$\n",
    "\n",
    "Now the car accelorates for 0.5 s at $5~\\frac{\\text{m}}{\\text{s}^2}$. From the equation above $v = a * t$ we can compute the velocity after 0.5 s as:\n",
    "\n",
    "\\begin{align}\n",
    "v(t=0.5~\\text{s}) &= v(t=0~\\text{s}) + a(t=0~\\text{s}) * \\Delta t\\\\\n",
    "                  &= 0~\\frac{\\text{m}}{\\text{s}} + 5~\\frac{\\text{m}}{\\text{s}^2} * 0.5~\\text{s} \\\\\n",
    "                  &= 2.5~\\frac{\\text{m}}{\\text{s}}\n",
    "\\end{align}\n",
    "\n",
    "Simliar we find the velocity at $t=1~\\text{s}$:\n",
    "\n",
    "\\begin{align}\n",
    "v(t=1.0~\\text{s}) &= v(t=0.5~\\text{s}) + a(t=0.5~\\text{s}) * \\Delta t\\\\\n",
    "                  &= 2.5~\\frac{\\text{m}}{\\text{s}} + 10~\\frac{\\text{m}}{\\text{s}^2} * 0.5~\\text{s} \\\\\n",
    "                  &= 7.5~\\frac{\\text{m}}{\\text{s}}\n",
    "\\end{align}\n",
    "\n",
    "And finally the velocity at $t=1.5~\\text{s}$ is:\n",
    "\n",
    "\\begin{align}\n",
    "v(t=1.0~\\text{s}) &= v(t=1.0~\\text{s}) + a(t=1.0~\\text{s}) * \\Delta t\\\\\n",
    "                  &= 7.5~\\frac{\\text{m}}{\\text{s}} - 5~\\frac{\\text{m}}{\\text{s}^2} * 0.5~\\text{s} \\\\\n",
    "                  &= 5.0~\\frac{\\text{m}}{\\text{s}}\n",
    "\\end{align}\n",
    "\n",
    "We see that the final velocity for the acceleration profile is given by $5.0~\\frac{\\text{m}}{\\text{s}}$.\n",
    "\n",
    "__Question__: Come up with your own example that is similar to the one above. Can you compute the velocity of the car at the end?"
   ]
  },
  {
   "cell_type": "markdown",
   "metadata": {
    "id": "DEu6T_VI47Uy"
   },
   "source": [
    "In the last example we used the notation $v(t=0~\\text{s})$ and $v(t=0.5~\\text{s})$ to talk about the velocity at different discrete points. It is common to express the different discrete points with a subscript $\\text{n}$. The equations from above would then read as this:\n",
    "\n",
    "\\begin{align}\n",
    "    v_0 &= 0\\\\\n",
    "    v_1 &= v_0 + a_0 * \\Delta t \\\\\n",
    "    v_2 &= v_1 + a_1 * \\Delta t\n",
    "\\end{align}\n",
    "\n",
    "where we then have $v_0 = v(t=0~\\text{s})$, $v_1 = v(t=0.5~\\text{s})$ and $v_2 = v(t=1.0~\\text{s})$. Writing the formulas in this short form you hopefully see a pattern that we - for the velocity - take the last velocity and add the change in the velocity in form of acceleration multiplied by the time duration to it. Written as equations this looks like this:\n",
    "\n",
    "\\begin{align}\n",
    "    v_{n+1} = v_n + a_n * \\Delta t.\n",
    "\\end{align}"
   ]
  },
  {
   "cell_type": "markdown",
   "metadata": {
    "id": "KxLVuZKF47Uz"
   },
   "source": [
    "__Question__: Given an acceleration profile, can you write some python code to compute the final velocity?"
   ]
  },
  {
   "cell_type": "code",
   "execution_count": null,
   "metadata": {
    "id": "y8wAguV147U0",
    "outputId": "6558a5be-2f5f-44e5-b35a-8d026ba54ed9"
   },
   "outputs": [
    {
     "name": "stdout",
     "output_type": "stream",
     "text": [
      "Final velocity: 0.0\n"
     ]
    }
   ],
   "source": [
    "import numpy as np\n",
    "\n",
    "t = 0 # Current time\n",
    "dt = 0.5 # time discretization\n",
    "acc = [5, 10, -5]\n",
    "\n",
    "vel_t = 0. # Velocity at time t\n",
    "\n",
    "# TODO: Put your code here\n",
    "\n",
    "print('Final velocity:', vt)"
   ]
  },
  {
   "cell_type": "markdown",
   "metadata": {
    "id": "qJJMgUKK47U2"
   },
   "source": [
    "In the previous example we kept the acceleration constant for $\\Delta t=0.5~\\text{s}$. To compute arbitrary acceleration profiles, it makes sense to have a smaller $\\Delta t$. The size of $\\Delta t$ depends on how fast the acceleration is changing. On our robots, we get a measurement every $\\Delta t=0.001~\\text{s}$, or  every millisecond. So it makes sense to use this as time discretization as well.\n",
    "\n",
    "In the last example we looked at the velocity and the acceleration. But how does the position profile looks like? To compute the position, we use our definition of the velocity as $x = v * t$ and come up with the discretization as:\n",
    "\n",
    "$$\n",
    "    x_{n+1} = x_n + v_n * \\Delta t\n",
    "$$\n",
    "\n",
    "Overall, we can write down the discretizations for all the equations we used so far in the following form:\n",
    "\n",
    "\\begin{align}\n",
    "    x_{n+1} &= x_n + v_n * \\Delta t \\\\\n",
    "    v_{n+1} &= v_n + a_n * \\Delta t \\\\\n",
    "    a_{n+1} &= \\frac{F_{n+1}}{m},\n",
    "\\end{align}\n",
    "\n",
    "where we assume the mass to be constant."
   ]
  },
  {
   "cell_type": "markdown",
   "metadata": {
    "id": "PU1PX1M_47U2"
   },
   "source": [
    "__Question__: Assuming the same acceleration profile of the car as in the last example. Assume the car starts at t=0 from position x=0 and velocity v=0. Use the equation summary and a small time discretization of $\\Delta t=0.001$ to compute the final velocity and position of the car. Use the python code in the following cell to help you get started."
   ]
  },
  {
   "cell_type": "code",
   "execution_count": null,
   "metadata": {
    "id": "vDqDTZ_l47U2"
   },
   "outputs": [],
   "source": [
    "t = 0 # Current time\n",
    "dt = 0.001 # time discretization\n",
    "\n",
    "T = 1.5\n",
    "\n",
    "steps = int(T / dt) + 1\n",
    "\n",
    "pos = np.zeros(steps) # Position trajectory. \n",
    "vel = np.zeros(steps) # Velocity trajectory.\n",
    "acc = np.zeros(steps) # acceleration trajectory.\n",
    "\n",
    "# Setup the acceleration profile\n",
    "acc[0:500] = 5.\n",
    "acc[500:1000] = 10.\n",
    "acc[1000:1500] = -5.\n",
    "\n",
    "for ti in range(1, steps):\n",
    "    # TODO: Write the equations to compute the new position and velocity here.\n",
    "    pos[ti] = ...\n",
    "    vel[ti] = ...\n",
    "\n",
    "# Show the results.\n",
    "print('Final x:', pos[-1])\n",
    "print('Final v:', vel[-1])"
   ]
  },
  {
   "cell_type": "markdown",
   "metadata": {
    "id": "lbNoLb4R47U3"
   },
   "source": [
    "__Question__: Does the velocity you find using the above method match the one derived before? Why is this the case?"
   ]
  },
  {
   "cell_type": "markdown",
   "metadata": {
    "id": "o1moDckA47U3"
   },
   "source": [
    "## Turning a joint"
   ]
  },
  {
   "cell_type": "markdown",
   "metadata": {
    "id": "cl-MnLqr47U4"
   },
   "source": [
    "So far we looked at the equation of motion for a car. In general, we explored the equation of motion for a point mass for linear transformations. On our robots we have rotating joints. To understand how we can control them, we need to have a basic understanding for the equation of motions for a rotating joint.\n",
    "\n",
    "If we want to stay in the metaphor of the car, we can look at one car wheel to get an idea for what the equatoins of motion for a rotating object are. \n",
    "\n",
    "* Similar to the linear position $\\text{x}$, we have the __angular position__ $\\theta$. \n",
    "* Similar to the linear velocity $\\text{v}$, we have the __angular velocity__ $\\omega$. \n",
    "* Similar to the linear acceleration $\\text{a}$, we have the __angluar acceleration__ $\\alpha$.\n",
    "\n",
    "Note that we express the angular position, velocity and acceleration using radians. That is, the unites are $\\text{rad}$, $\\frac{\\text{rad}}{\\text{s}}$ and $\\frac{\\text{rad}}{\\text{s}^2}$.\n",
    "\n",
    "Before we said, that a force $\\text{F}$ acting on an object corresponds to its acceleration by $\\text{F} = \\text{m} * \\text{a}$. We find a similar relation for the angular acceleration. Instead of a force we have a torque $\\tau$ acting on the rotating object and instead of a mass we have an inertia (matrix) denoted by $\\text{I}$. The relation between these quantities is then given by:\n",
    "\n",
    "$$\n",
    "    \\alpha = \\frac{\\tau}{\\text{I}}~~~\\text{or}~~~ \\tau = \\text{I} \\alpha\n",
    "$$\n",
    "\n",
    "The relationship between the angular position, angular velocity and angular acceleration is similar as with the linear quantities:\n",
    "\n",
    "\\begin{align}\n",
    "    \\dot{\\theta} &= \\omega \\\\\n",
    "    \\dot{\\omega} &= \\alpha \\\\\n",
    "\\end{align}\n",
    "\n",
    "and we find the discretizations similar as before as:\n",
    "\n",
    "\\begin{align}\n",
    "    \\theta_{n+1} &= \\theta_n + \\omega_n * \\Delta t\\\\\n",
    "    \\omega_{n+1} &= \\omega_n + \\alpha_n * \\Delta t\\\\\n",
    "    \\alpha_{n+1} &= \\frac{\\tau_{n+1}}{\\text{I}}.\n",
    "\\end{align}\n",
    "\n"
   ]
  },
  {
   "cell_type": "markdown",
   "metadata": {
    "id": "8hF9sWaB47U4"
   },
   "source": [
    "__Question__: The inertia of the last joint on our finger robot is $\\text{I} = 0.00012~\\text{kg}~\\text{m^2}$. What's the torque you need to apply to create an angluar acceleration of $2~\\frac{\\text{rad}}{s^2}$."
   ]
  },
  {
   "cell_type": "markdown",
   "metadata": {
    "id": "074x9bLr47U4"
   },
   "source": [
    "__Question__: Assume the inertia is $\\text{I} = 0.00012~\\text{kg}~\\text{m^2}$. Assume you have a torque profile for 0.5 seconds each as $\\tau = 0.0003~\\text{N}$, $\\tau = 0.0006~\\text{N}$, $\\tau = -0.0003~\\text{N}$. Compute the final position of the joint assuming the joint posiiton and velocity are zero at the beginning.\n",
    "\n",
    "_Hint_: Implement a small python program similar to the one above for the linear position and use $\\Delta t=0.001~\\text{s}$ again."
   ]
  },
  {
   "cell_type": "code",
   "execution_count": null,
   "metadata": {
    "id": "SdHTA_n247U4"
   },
   "outputs": [],
   "source": []
  }
 ],
 "metadata": {
  "colab": {
   "collapsed_sections": [],
   "name": "5-equation-of-motion.ipynb",
   "provenance": []
  },
  "kernelspec": {
   "display_name": "Python 3",
   "language": "python",
   "name": "python3"
  },
  "language_info": {
   "codemirror_mode": {
    "name": "ipython",
    "version": 3
   },
   "file_extension": ".py",
   "mimetype": "text/x-python",
   "name": "python",
   "nbconvert_exporter": "python",
   "pygments_lexer": "ipython3",
   "version": "3.9.1"
  }
 },
 "nbformat": 4,
 "nbformat_minor": 1
}
