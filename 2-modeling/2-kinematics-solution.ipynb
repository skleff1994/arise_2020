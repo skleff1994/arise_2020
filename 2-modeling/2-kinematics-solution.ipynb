{
 "cells": [
  {
   "cell_type": "markdown",
   "metadata": {},
   "source": [
    "# 2. Kinematic modeling (Solution)"
   ]
  },
  {
   "cell_type": "markdown",
   "metadata": {},
   "source": [
    "The __kinematic model__ of a robot is a set of equations describing the robot's motion. It relates the joint velocities (e.g. angular velocities in $rad/s$ for revolute joints) to the end-effector velocity. Similarily to the geometric model, we define \n",
    "\n",
    "- __Direct Kinematic Model (DKM)__ : given joint velocities, it gives the velocity of the end-effector (tool, hand, foot, etc.) with respect to the robot's base frame\n",
    "\n",
    "- __Inverse Kinematic Model (IKM)__ : given an end-effector velocity (and orientation), it gives the joint velocities \n",
    "\n",
    "If $q$ denotes a joint position, then the corresponding velocity is defined as the derivative $\\dot{q} = \\frac{dq}{dt}$. Similarily, the end-effector velocity is denoted $\\dot{p} = \\frac{d p}{dt} = (\\frac{d x_p}{dt}, \\frac{d y_p}{dt})$. The kinematic model can also be thought, to some extent, as a mapping between a joint space and a task space. In this notebook, we will study the direct and inverse kinematics of the 1R and 2R robots. \n",
    "\n",
    "__Note__: if you are a bit rusty on derivatives, I suggest you take a look at this [cheatsheet](https://www.mathsisfun.com/calculus/derivatives-rules.html)"
   ]
  },
  {
   "cell_type": "markdown",
   "metadata": {},
   "source": [
    "# 1R robot"
   ]
  },
  {
   "cell_type": "markdown",
   "metadata": {},
   "source": [
    "Consider the simple robot arm consisting of 1 revolute joint and 1 link. "
   ]
  },
  {
   "cell_type": "code",
   "execution_count": 2,
   "metadata": {},
   "outputs": [],
   "source": [
    "## Author: Sebastien\n",
    "## Date : 22/06/2020\n",
    "\n",
    "# Import required packages for this notebook\n",
    "import numpy as np\n",
    "from matplotlib import pyplot as plt\n",
    "import IPython\n",
    "from IPython.display import Image\n",
    "import matplotlib.animation as animation\n",
    "from matplotlib.animation import FuncAnimation\n",
    "\n",
    "np.set_printoptions(precision=4)\n",
    "\n",
    "# If full github repo has been downloaded locally, uncomment these lines\n",
    "# from IPython.display import Image\n",
    "# Image(\"1dof.png\")\n",
    "\n",
    "# Otherwise click on the link below to see the figure"
   ]
  },
  {
   "cell_type": "markdown",
   "metadata": {},
   "source": [
    "<!-- For Colab NB -->\n",
    "[1R robot (click here)](https://drive.google.com/file/d/1aSBG3kNHr6wBTUF9SetZ0xkq7uHdxFpx/view?usp=sharing)"
   ]
  },
  {
   "cell_type": "markdown",
   "metadata": {},
   "source": [
    "The DKM relates $\\dot{q}$ to $\\dot{p}$. Recall that we already have a relation between $q$ and $p=(x_p,y_p)$ : the DGM. As seen in the previous Notebook, the DGM is a function taking $q$ as an input that outputs $p$. Let us rename the DGM function as $f$. As seen before, the direct geometry of the 1R robot is expressed by the equation\n",
    "\n",
    "$$\n",
    "p = f(q)\n",
    "$$\n",
    "\n",
    "where $f(q)$ is the vector in $\\mathbb{R}^2$ \n",
    "$$\n",
    "f(q) = \\begin{bmatrix} L \\cos(q) \\\\\n",
    "                       L \\sin(q) \\end{bmatrix}\n",
    "$$\n",
    "\n",
    "Taking the derivatives with respect to the time variable $t$ on both sides of the above equation, we obtain \n",
    "\n",
    "$$\n",
    "\\dot{p} = \\frac{d f(q)}{dt}\n",
    "$$\n",
    "\n",
    "Applying the [chain rule](https://www.mathsisfun.com/calculus/derivatives-rules.html) to calculate the right-hand side of the above equation, we get\n",
    "\n",
    "$$\n",
    "\\dot{p} = \\frac{d f(q)}{d q} \\frac{dq}{dt} \\\\\n",
    "\\dot{p} = \\frac{df(q)}{d q} \\dot{q}\n",
    "$$\n",
    "\n",
    "And that's it : the DKM is given by the derivative of the DGM with respect to $q$. Recall the expression of the DGM: we derived \n",
    "\n",
    "$$\n",
    "f(q) = \\begin{bmatrix} L \\cos(q) \\\\\n",
    "                       L \\sin(q) \\end{bmatrix}\n",
    "$$\n",
    "\n",
    "Using [rules of differentiation for trigonometric functions](https://www.mathsisfun.com/calculus/derivatives-rules.html), we get the derivative with respect to $q$ as\n",
    "\n",
    "$$\n",
    " \\frac{\\partial f(q)}{\\partial q} = \\begin{bmatrix} -L \\sin(q) \\\\\n",
    "                                                  L \\cos(q) \\end{bmatrix}\n",
    "$$\n",
    "\n",
    "Therefore the DKM is given by the equation\n",
    "\n",
    "$$\n",
    "\\dot{p} = \\begin{bmatrix} \\dot{x_p} \\\\\n",
    "                \\dot{y_p}\\end{bmatrix} = \\begin{bmatrix} -L \\sin(q) \\\\\n",
    "                                                                  L \\cos(q) \\end{bmatrix} \\dot{q}\n",
    "$$ \n"
   ]
  },
  {
   "cell_type": "markdown",
   "metadata": {},
   "source": [
    "__Question__ : Complete the DKM function (using the theoretical results above)\n",
    "    \n",
    "__Answer__ :"
   ]
  },
  {
   "cell_type": "code",
   "execution_count": 3,
   "metadata": {},
   "outputs": [
    {
     "name": "stdout",
     "output_type": "stream",
     "text": [
      "The end-effector velocity corresponding to qdot = 1.0 is : pdot = [-0.7071  0.7071]\n"
     ]
    }
   ],
   "source": [
    "# Define the link length\n",
    "L = 1.\n",
    "\n",
    "# Function corresponding to the direct kinematic model\n",
    "def DKM(q, qdot):\n",
    "    '''\n",
    "    Input : joint angular position and velocity (in rad and rad/s)\n",
    "    Output : end-effector position (in m/s)\n",
    "    '''\n",
    "    \n",
    "    xdot_p = -L*np.sin(q)*qdot\n",
    "    ydot_p = L*np.cos(q)*qdot\n",
    "    \n",
    "    pdot = np.array([xdot_p, ydot_p])\n",
    "    \n",
    "    return pdot\n",
    "\n",
    "# Test the DGM and display the result\n",
    "q = np.pi/4\n",
    "qdot = 1.\n",
    "pdot = DKM(q, qdot)\n",
    "print(\"The end-effector velocity corresponding to qdot = \"+str(qdot)+\" is : pdot = \"+str(pdot))"
   ]
  },
  {
   "cell_type": "markdown",
   "metadata": {},
   "source": [
    "The IKM solves the converse problem: given an end-effector velocity (task space), it returns the corresponding velocity. However it is not always possible to determine a unique solution to the inverse problem: if the robot is in a particular configuration called a singular configuration, there is no solution ! The analysis of inverse kinematics can be tricky so we won't go into details here.\n",
    "\n",
    "__Question__ : What happens when $q=0$ or $\\pi$ ? When $q=\\pi/2$ or $3\\pi/2$ ? (Interpret what is happening to the DGM and DKM in these cases)\n",
    "\n",
    "__Answer__ : When $q=0$ or $\\pi$, $y_p=0$ so the robot arm is aligned with $x$-axis. The DKM reduces to \n",
    "\n",
    "$$\n",
    "\\dot{x}_p = 0 \\\\\n",
    "\\dot{y}_p = \\pm L\\dot{q}\n",
    "$$\n",
    "\n",
    "In this configuration, the joint velocity $\\dot{q}$ can be fully determined by the end-effector velocity along $y$, and the end-effector velocity in the $x$ direction must be $0$. Thus we obtain the inverse kinematics simply by inverting the second equation : $\\dot{q} = \\pm \\dot{y}_p/L$. Similarily, when $q=\\pi/2$ or $3\\pi/2$ (robot arm aligned with $y$-axis) we have\n",
    "\n",
    "$$\n",
    "\\dot{x}_p = \\pm L\\dot{q} \\\\\n",
    "\\dot{y}_p = 0\n",
    "$$\n",
    "\n",
    "and the IKM reduces to $\\dot{q} = \\pm \\dot{x_p}/L$. These values of $q$ are __singular configurations__. \n",
    "\n",
    "\n",
    "__Question__ : What can you say about the quantity $x_p^2 + y_p^2$ ? Calculate its derivative with respect to time. \n",
    "\n",
    "__Answer__ : $x_p^2 + y_p^2 = L^2$ is constant since the link can't change its length. Therefore the time derivative of this quantity must be $0$.\n",
    "\n",
    "\n",
    "__Question__ : Prove the following equality\n",
    "\n",
    "$$\n",
    "\\dot{q} = \\frac{\\dot{y}_p\\cos(q) - \\dot{x}_p\\sin(q)}{L}\n",
    "$$\n",
    "\n",
    "Hint: calculate the time derivative of the IGM using $\\frac{d }{dx}\\tan^{-1}(x) = \\frac{1}{1+x^2}$ in the chain rule.\n",
    "\n",
    "__Answer__ :\n",
    "\n",
    "Recall the IGM\n",
    "\n",
    "$$\n",
    "q = \\tan^{-1}\\left(\\frac{y_p}{x_p}\\right)\n",
    "$$\n",
    "\n",
    "The derivative with respect to time is \n",
    "\n",
    "$$\n",
    "\\dot{q} = \\frac{d \\tan^{-1}(y_p/x_p)}{dt}\n",
    "$$\n",
    "\n",
    "Denoting $z = y_p/x_p$ we get from the chain rule\n",
    "\n",
    "$$\n",
    "\\dot{q} = \\frac{ \\tan^{-1}(z)}{dt} = \\frac{\\partial \\tan^{-1}(z)}{\\partial z} \\dot{z}\n",
    "$$\n",
    "\n",
    "Using the hint, we know that \n",
    "\n",
    "$$\n",
    "\\frac{\\partial \\tan^{-1}(z)}{\\partial z} = \\frac{1}{1+z^2} = \\frac{1}{1+(y_p/x_p)^2}\n",
    "$$\n",
    "\n",
    "Moreover the second term of the chain rule is easily calculated using the rules of calculus (derivative of a quotient of functions) \n",
    "\n",
    "$$\n",
    "\\dot{z} = \\frac{d}{dt} \\left( \\frac{y_p}{x_p} \\right) = \\frac{\\dot{y}_p x_p - \\dot{x}_p y_p}{x^2_p}\n",
    "$$\n",
    "\n",
    "Therefore \n",
    "\n",
    "$$\n",
    "\\dot{q} =\\frac{1}{1+(y_p/x_p)^2} \\frac{\\dot{y}_p x_p - \\dot{x}_p y_p}{x^2_p}\n",
    "$$\n",
    "\n",
    "which simplifies into \n",
    "\n",
    "$$\n",
    "\\dot{q} =\\frac{x_p^2}{x_p^2+ y_p^2} \\frac{\\dot{y}_p x_p - \\dot{x}_p y_p}{x^2_p}\n",
    "\\dot{q} = \\frac{\\dot{y}_p x_p - \\dot{x}_p y_p}{x_p^2+ y_p^2}\n",
    "$$\n",
    "\n",
    "We recognize $x_p^2+ y_p^2 = L^2$. Moreover we know how to express $x_p$ and $y_p$ in terms of $q$ from the DGM. So we get\n",
    "\n",
    "$$\n",
    "\\dot{q} = \\frac{\\dot{y}_p L \\cos(q) - \\dot{x}_p L \\sin(q)}{L^2} \\\\\n",
    "\\dot{q} = \\frac{\\dot{y}_p \\cos(q) - \\dot{x}_p \\sin(q)}{L}\n",
    "$$"
   ]
  },
  {
   "cell_type": "markdown",
   "metadata": {},
   "source": [
    "__Question__ : Complete the DKM function (using the theoretical results above)\n",
    "    \n",
    "__Answer__ :"
   ]
  },
  {
   "cell_type": "code",
   "execution_count": 4,
   "metadata": {},
   "outputs": [
    {
     "name": "stdout",
     "output_type": "stream",
     "text": [
      "The joint velocity corresponding to pdot = [0.  0.5] is : qdot = 0.2701511529340699\n"
     ]
    }
   ],
   "source": [
    "# Function corresponding to the inverse kinematic model\n",
    "def IKM(q, pdot):\n",
    "    '''\n",
    "    Input : joint position (rad), end-effector velocity (m/s)\n",
    "    Output : joint velocity (rad)\n",
    "    '''    \n",
    "    xdot_p = pdot[0]\n",
    "    ydot_p = pdot[1]\n",
    "    qdot = (ydot_p*np.cos(q) - xdot_p*np.sin(q)) / L\n",
    "    return qdot\n",
    "\n",
    "# Test the DGM and display the result\n",
    "pdot = np.array([0., 0.5])\n",
    "q = 1.\n",
    "qdot = IKM(q, pdot)\n",
    "print(\"The joint velocity corresponding to pdot = \"+str(pdot)+\" is : qdot = \"+str(qdot))"
   ]
  },
  {
   "cell_type": "markdown",
   "metadata": {},
   "source": [
    "__Question__ : Implement a `KinematicModel1R` class containing DKM and IKM functions (you can take inspiration from the classes implemented in the previous notebook)\n",
    "\n",
    "__Answer__ :"
   ]
  },
  {
   "cell_type": "code",
   "execution_count": 5,
   "metadata": {},
   "outputs": [],
   "source": [
    "class KinematicModel1R:\n",
    "    '''\n",
    "    Environment class for the 1R robot kinematics\n",
    "    '''\n",
    "    def __init__(self, L=1.):\n",
    "        ''' \n",
    "        Initialize model parameters\n",
    "        '''\n",
    "        self.L = L\n",
    "    \n",
    "    def DKM(self, q, qdot):\n",
    "        '''\n",
    "        Direct Kinematic Model function\n",
    "        Input : joint angular position and velocity (in rad and rad/s)\n",
    "        Output : end-effector position (in m/s)\n",
    "        '''\n",
    "        xdot_p = -self.L*np.sin(q)*qdot\n",
    "        ydot_p = self.L*np.cos(q)*qdot\n",
    "        pdot = np.array([xdot_p, ydot_p])\n",
    "        return pdot\n",
    "\n",
    "    def IKM(self, q, pdot):\n",
    "        '''\n",
    "        Inverse Kinematic Model function\n",
    "        Input : end-effector position (in m), joint position (m)\n",
    "        Output : joint velocity (in rad/s)\n",
    "        '''    \n",
    "        xdot_p = pdot[0]\n",
    "        ydot_p = pdot[1]\n",
    "        qdot = (ydot_p*np.cos(q) - xdot_p*np.sin(q)) / self.L\n",
    "        return qdot"
   ]
  },
  {
   "cell_type": "markdown",
   "metadata": {},
   "source": [
    "Now let us consider the 2R robot. You will derive its DKM and IKM."
   ]
  },
  {
   "cell_type": "code",
   "execution_count": 6,
   "metadata": {
    "scrolled": false
   },
   "outputs": [],
   "source": [
    "# If full github repo has been downloaded locally, uncomment these lines\n",
    "# from IPython.display import Image\n",
    "# Image(\"2dof.png\")\n",
    "\n",
    "# Otherwise click on the link below to see the figure"
   ]
  },
  {
   "cell_type": "markdown",
   "metadata": {},
   "source": [
    "<!-- For Colab NB -->\n",
    "[2R robot (click here)](https://drive.google.com/file/d/1Pdow1aMbsOGwISPOVpTHg5suiEBJ0y4z/view?usp=sharing)"
   ]
  },
  {
   "cell_type": "markdown",
   "metadata": {},
   "source": [
    "__Question__ : derive the DKM of the 2R robot by differentiating the DGM\n",
    "\n",
    "Hint : View the DGM as a vector $p = [f_1(q), f_2(q)]^T$. Then the DKM be written under matrix form as \n",
    "\n",
    "$$\n",
    "\\dot{p} = J(q)\\dot{q}\n",
    "$$\n",
    "\n",
    "where $J(q)$ is the __Jacobian__ of the 2R robot. It is a $2\\times 2$ matrix containing the partial derivatives of the DKM with respect to $q_1, q_2$, i.e. \n",
    "\n",
    "$$\n",
    "J(q) = \\begin{bmatrix} \\frac{\\partial f_1(q)}{\\partial q_1},~ \\frac{\\partial f_1(q)}{\\partial q_2} \\\\\n",
    "                       \\frac{\\partial f_2(q)}{\\partial q_1},~ \\frac{\\partial f_2(q)}{\\partial q_2} \n",
    "       \\end{bmatrix} \n",
    "$$\n",
    "\n",
    "Note: If you are already familiar with derivatives, the _partial_ derivative is not much different. See an example [here](https://www.mathsisfun.com/calculus/derivatives-partial.html)\n",
    "\n",
    "__Answer__ : We know the DGM as\n",
    "\n",
    "$$\n",
    "p = \\begin{bmatrix} x_p \\\\\n",
    "                    y_p\n",
    "           \\end{bmatrix} =\\begin{bmatrix} L_1 \\cos(q_1) + L_2 \\cos(q_1 + q_2) \\\\\n",
    "                                          L_1 \\sin(q_1) + L_2 \\sin(q_1 + q_2) \n",
    "                         \\end{bmatrix} = \\begin{bmatrix}f_1(q) \\\\\n",
    "                                                          f_2(q)\n",
    "                                         \\end{bmatrix} \n",
    "$$\n",
    "\n",
    "The Jacobian is, by definition \n",
    "\n",
    "$$\n",
    "J(q) = \\begin{bmatrix} \\frac{\\partial f_1(q)}{\\partial q_1},~ \\frac{\\partial f_1(q)}{\\partial q_2} \\\\\n",
    "                       \\frac{\\partial f_2(q)}{\\partial q_1},~ \\frac{\\partial f_2(q)}{\\partial q_2} \n",
    "       \\end{bmatrix} = \\begin{bmatrix} -L_1 \\sin(q_1) - L_2 \\sin(q_1 + q_2),~ - L_2 \\sin(q_1 + q_2)\\\\\n",
    "                                       L_1 \\cos(q_1) + L_2 \\cos(q_1 + q_2),~ L_2 \\cos(q_1 + q_2)\n",
    "                       \\end{bmatrix}\n",
    "$$\n",
    "\n",
    "__Question__: Derive the DKM for the 2R robot by computing the jacobian $J(q)$ for the 2R robot.\n",
    "\n",
    "__Question__ : How would you derive the IKM from the previous question ? What issues can arise with $J(q)$ ? For which value(s) of $q$ do they arise ?\n",
    "\n",
    "Hint: recall the [_determinant_](https://www.mathsisfun.com/algebra/matrix-determinant.html) of a matrix.\n",
    "\n",
    "__Answer__ : If $\\text{det}(J(q)) \\neq 0$, then $J(q)$ is invertible and the IKM can be calculated as\n",
    "\n",
    "$$\n",
    "\\dot{q} = J(q)^{-1}\\dot{p}\n",
    "$$\n",
    "\n",
    "However if $\\text{det}(J(q)) = 0$, $J(q)$ is not invertible and the IKM is not well-defined. We have :\n",
    "\n",
    "$$\n",
    "\\text{det}(J(q)) = J_{11} J_{22} - J_{21} J_{12}\n",
    "$$\n",
    "\n",
    "After a rather simple calculation the determinant turns out to be \n",
    "\n",
    "$$\n",
    "\\text{det}(J(q)) = L_1 L_2 \\sin(q_2)\n",
    "$$\n",
    "\n",
    "We can see that the determinant becomes $0$ whenever $q = k\\pi$. When this happens, the Jacobian becomes __singular__ , i.e. its inverse (and consequently, the IKM) is not well defined. \n",
    "\n",
    "__Question__ : Implement the direct and inverse kinematic models of the 2R robot (complete the following code).\n",
    "\n",
    "__Answer__ :"
   ]
  },
  {
   "cell_type": "code",
   "execution_count": 7,
   "metadata": {},
   "outputs": [
    {
     "name": "stdout",
     "output_type": "stream",
     "text": [
      "The end-effector velocity corresponding to qdot = [0.0102 0.6459] is : pdot = [[-2.6062  0.046 ]]\n",
      "The joint velocity corresponding to pdot = [0.8387 0.0701] is : qdot = [ 23.2898 -46.7194]\n"
     ]
    }
   ],
   "source": [
    "class KinematicModel2R:\n",
    "    '''\n",
    "    Environment class for the 2R robot kinematics\n",
    "    '''\n",
    "    def __init__(self, L1=1., L2=1.):\n",
    "        ''' \n",
    "        Initialize model parameters\n",
    "        '''\n",
    "        self.L1 = L1\n",
    "        self.L2 = L2\n",
    "\n",
    "    def jacobian(self, q):\n",
    "        '''\n",
    "        Calculate the 2x2 Jacobian matrix \n",
    "        Input : joint position q\n",
    "        Output : Jacobian matrix\n",
    "        '''\n",
    "        q1 = q[0]\n",
    "        q2 = q[1]\n",
    "        jac = np.matrix([[-self.L1*np.sin(q1)-self.L2*np.sin(q1+q2), -self.L2*np.sin(q1+q2)],\n",
    "                         [self.L1*np.cos(q1)+self.L2*np.cos(q1+q2), self.L2*np.cos(q1+q2)]])\n",
    "        return jac\n",
    "    \n",
    "    def DKM(self, q, qdot):\n",
    "        '''\n",
    "        Direct Kinematic Model function\n",
    "        Input : joint positions q=(q1,q2) (in rad)\n",
    "        Output : end-effector velocity (in m/s)\n",
    "        '''\n",
    "        # Use jacobian\n",
    "        pdot = self.jacobian(q).dot(q)\n",
    "        return pdot\n",
    "\n",
    "    def IKM(self, q, pdot):\n",
    "        '''\n",
    "        Inverse Kinematic Model function\n",
    "        Input : end-effector velocity (in m and m/s), joint positions q (in rad)\n",
    "        Output : joint velocity (rad/s)\n",
    "        '''\n",
    "        # Get Jacobian matrix\n",
    "        jac = self.jacobian(q)\n",
    "        # Check if Jacobian is singular\n",
    "        if(np.linalg.det(jac) == 0):\n",
    "            print(\"Singular configuration ! \")\n",
    "        else:\n",
    "            # Jacobian (inverse)\n",
    "            qdot = np.linalg.solve(jac, pdot)\n",
    "            return qdot\n",
    "\n",
    "    \n",
    "# Create kinematics\n",
    "kinem2R = KinematicModel2R()\n",
    "\n",
    "# Test DKM\n",
    "q = np.random.rand(2)\n",
    "qdot = np.random.rand(2)\n",
    "pdot = kinem2R.DKM(q, qdot)\n",
    "print(\"The end-effector velocity corresponding to qdot = \"+str(qdot)+\" is : pdot = \"+str(pdot))\n",
    "\n",
    "# Test IKM\n",
    "q = np.random.rand(2)\n",
    "pdot = np.random.rand(2)\n",
    "qdot = kinem2R.IKM(q, pdot)\n",
    "print(\"The joint velocity corresponding to pdot = \"+str(pdot)+\" is : qdot = \"+str(qdot))"
   ]
  },
  {
   "cell_type": "markdown",
   "metadata": {},
   "source": [
    "We derived the direct and inverse kinematic models of the 1R and 2R robots. This enables to relate velocities in the joint space of the robot to velocities of its end-effector in the task space. The robot kinematics constitutes the basis of trajectory generation and motion planning, as we will see in the next Notebook."
   ]
  }
 ],
 "metadata": {
  "kernelspec": {
   "display_name": "Python 3",
   "language": "python",
   "name": "python3"
  },
  "language_info": {
   "codemirror_mode": {
    "name": "ipython",
    "version": 3
   },
   "file_extension": ".py",
   "mimetype": "text/x-python",
   "name": "python",
   "nbconvert_exporter": "python",
   "pygments_lexer": "ipython3",
   "version": "3.9.1"
  }
 },
 "nbformat": 4,
 "nbformat_minor": 4
}
