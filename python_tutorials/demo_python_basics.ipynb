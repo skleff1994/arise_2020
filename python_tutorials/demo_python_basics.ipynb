{
 "cells": [
  {
   "cell_type": "markdown",
   "metadata": {
    "colab_type": "text",
    "id": "XQjyVKWLIjl9"
   },
   "source": [
    "# Python tutorial (with solutions)"
   ]
  },
  {
   "cell_type": "markdown",
   "metadata": {},
   "source": [
    "This tutorial was adapted from https://github.com/huaijiangzhu/SummerML . This Notebook is a quick and interactive introduction to Python. Some questions have hints mentionning functions that are not introduced here, but you can look them up in the official documentation at https://docs.python.org/3/index.html"
   ]
  },
  {
   "cell_type": "markdown",
   "metadata": {
    "colab_type": "text",
    "id": "66ZZ59uiIjl-"
   },
   "source": [
    "## Variables\n",
    "We'll use integers for now, but there exist many more data-types.\n",
    "Variables are ways we deal with data, assign values, and allow interaction in the computer.\n",
    "Notice that re-assigning ```a``` variable does not change the value of ```c``` because **code is executed sequentially**"
   ]
  },
  {
   "cell_type": "code",
   "execution_count": 5,
   "metadata": {
    "colab": {
     "base_uri": "https://localhost:8080/",
     "height": 101
    },
    "colab_type": "code",
    "id": "VDF6wc3IIjl-",
    "outputId": "82c547c9-747a-4528-c335-1d17386ae0b1"
   },
   "outputs": [
    {
     "name": "stdout",
     "output_type": "stream",
     "text": [
      "a =  5\n",
      "b =  2\n",
      "c =  7\n",
      "a =  3\n",
      "c =  7\n"
     ]
    }
   ],
   "source": [
    "# Define two integers a and b holding values 5 and 2 respectively\n",
    "a = 5\n",
    "b = 2\n",
    "\n",
    "# Print their values\n",
    "print('a = ', a)\n",
    "print('b = ', b)\n",
    "\n",
    "# Addition\n",
    "c = a+b\n",
    "\n",
    "# Change the value of a\n",
    "a = 3\n",
    "\n",
    "# Print \n",
    "print('c = ', c)\n",
    "print('a = ', a)\n",
    "print('c = ', c)"
   ]
  },
  {
   "cell_type": "markdown",
   "metadata": {},
   "source": [
    "The basic operations in Python are pretty straightforward : \n",
    "- addition `+`\n",
    "- substraction `-`\n",
    "- multiplication `*`\n",
    "- division `/`\n",
    "- modulo `%` "
   ]
  },
  {
   "cell_type": "code",
   "execution_count": 6,
   "metadata": {},
   "outputs": [
    {
     "name": "stdout",
     "output_type": "stream",
     "text": [
      "a-b =  -1.0\n",
      "a*b =  6.0\n",
      "a/b =  0.6666666666666666\n",
      "a%b =  2.0\n"
     ]
    }
   ],
   "source": [
    "# Define floats a,b\n",
    "a = 2.\n",
    "b = 3.\n",
    "\n",
    "print(\"a-b = \", a-b)\n",
    "print(\"a*b = \", a*b)\n",
    "print(\"a/b = \", a/b)\n",
    "print(\"a%b = \", a%b)"
   ]
  },
  {
   "cell_type": "markdown",
   "metadata": {
    "colab_type": "text",
    "id": "22na4BBNIjmF"
   },
   "source": [
    "## If-Statements\n",
    "Basic inequality statements: ```==, !=, >=, <=, >, <```. If statements are used to conditionally execute a line of code. Inequality statements return **boolean** variables types: ```True``` or ```False```. Contents of an if-statement are only evaluated when the condition is ```True```. *Extra: look into elseif statements.*\n"
   ]
  },
  {
   "cell_type": "code",
   "execution_count": 7,
   "metadata": {
    "colab": {
     "base_uri": "https://localhost:8080/",
     "height": 84
    },
    "colab_type": "code",
    "id": "Yct3wpGNIjmF",
    "outputId": "54c5ebbc-2f45-4454-c8f5-71728f4c4316"
   },
   "outputs": [
    {
     "name": "stdout",
     "output_type": "stream",
     "text": [
      "Booleans are great!\n",
      "Is a greater than 0? True\n",
      "a is greater than 0!\n",
      "Nope, a+b= 5.0\n"
     ]
    }
   ],
   "source": [
    "if(True):\n",
    "    print('Booleans are great!')\n",
    "    \n",
    "if(False):\n",
    "    print('This will never be printed!')\n",
    "\n",
    "print('Is a greater than 0?', a>0)    \n",
    "\n",
    "if(a > 0):\n",
    "    print('a is greater than 0!')\n",
    "    \n",
    "if(a+b == c):\n",
    "    print('Yep, a+b=', a+b)\n",
    "else:\n",
    "    print('Nope, a+b=', a+b)"
   ]
  },
  {
   "cell_type": "markdown",
   "metadata": {},
   "source": [
    "The basic statements can be assigned to boolean variables and combined together with `and ` and `or` operators :"
   ]
  },
  {
   "cell_type": "code",
   "execution_count": 110,
   "metadata": {},
   "outputs": [
    {
     "name": "stdout",
     "output_type": "stream",
     "text": [
      "my statement is false\n"
     ]
    }
   ],
   "source": [
    "a = 1\n",
    "b = -3\n",
    "# My statement\n",
    "my_boolean = (a<0 and b<0) or (a<0 and b>0)\n",
    "# Test my statement\n",
    "if (my_boolean):\n",
    "    print(\"my statement is true\")\n",
    "else:\n",
    "    print(\"my statement is false\")"
   ]
  },
  {
   "cell_type": "markdown",
   "metadata": {
    "colab_type": "text",
    "id": "Xjn9uTS2IjmI"
   },
   "source": [
    "## Functions\n",
    "Functions are used to define lines of code we wish to execute later or reuse. Functions may return a variable from being called, which is signified by their return statement. A return statement is optional. Functions can take in parameters with and/or without key-word arguments (kwargs).\n",
    "\n",
    "Functions are very powerful. If find yourself copying and pasting code in multiple places, consider writing a function instead."
   ]
  },
  {
   "cell_type": "code",
   "execution_count": 8,
   "metadata": {
    "colab": {
     "base_uri": "https://localhost:8080/",
     "height": 34
    },
    "colab_type": "code",
    "id": "wGZ0WTqZIjmJ",
    "outputId": "fb1c033f-9755-4a8b-ae3b-d30fd3d0c1f1"
   },
   "outputs": [],
   "source": [
    "# function that prints the input\n",
    "def myPrintFunc(x):\n",
    "    print('var = ', x)\n",
    "\n",
    "# function that adds two input numbers\n",
    "def myFunc(x,y):\n",
    "    return x+y"
   ]
  },
  {
   "cell_type": "markdown",
   "metadata": {},
   "source": [
    "__Question__ : What does the following function do ?"
   ]
  },
  {
   "cell_type": "code",
   "execution_count": 9,
   "metadata": {},
   "outputs": [
    {
     "name": "stdout",
     "output_type": "stream",
     "text": [
      "var =  5.0\n"
     ]
    }
   ],
   "source": [
    "# try to guess by looking at it\n",
    "def myFunc2(x, y, show=True):\n",
    "    w = myFunc(x, y)\n",
    "    if(show):\n",
    "        myPrintFunc(w)\n",
    "    return w\n",
    "\n",
    "# feel free to test it out\n",
    "a = myFunc2(a,b)\n",
    "a = myFunc2(a,b, show=False)"
   ]
  },
  {
   "cell_type": "markdown",
   "metadata": {},
   "source": [
    "__Answer__ : it adds the two inputs and optionally displays the result, depending on the value of the boolean inputu `show` (set to `True` by default)."
   ]
  },
  {
   "cell_type": "markdown",
   "metadata": {},
   "source": [
    "__Question__ : Write a function that returns the division of 2 numbers. If the denominator is $0$, the function should print an error message and return nothing. Test the function on several examples"
   ]
  },
  {
   "cell_type": "code",
   "execution_count": 3,
   "metadata": {},
   "outputs": [],
   "source": [
    "# Define the function\n",
    "def divide(a,b):\n",
    "    if(b!=0):\n",
    "        return a/b\n",
    "    else:\n",
    "        print(\"Error ! Division by zero !\")"
   ]
  },
  {
   "cell_type": "markdown",
   "metadata": {
    "colab_type": "text",
    "id": "EvUr4kXEIjmL"
   },
   "source": [
    "__Question__ : Write a function to find the factors of a positive number. Test the function on several examples"
   ]
  },
  {
   "cell_type": "code",
   "execution_count": 10,
   "metadata": {
    "colab": {},
    "colab_type": "code",
    "id": "K05zSHatIjmM"
   },
   "outputs": [],
   "source": [
    "def get_factor(num):\n",
    "  if num==0:\n",
    "    print(\"All numbers are factors of 0\\n\")\n",
    "  elif num<0:\n",
    "    print(\"Error: Number is negative\\n\")\n",
    "  else:\n",
    "    for divisor in range(1, num + 1):\n",
    "      if num % divisor == 0:\n",
    "        print(divisor, \"is a factor of \", num)\n",
    "    print('\\n')"
   ]
  },
  {
   "cell_type": "code",
   "execution_count": 111,
   "metadata": {
    "colab": {
     "base_uri": "https://localhost:8080/",
     "height": 286
    },
    "colab_type": "code",
    "id": "2AQmzZ9ALyjA",
    "outputId": "be532255-a96c-45b2-ff2e-6a872f19a951"
   },
   "outputs": [
    {
     "name": "stdout",
     "output_type": "stream",
     "text": [
      "All numbers are factors of 0\n",
      "\n",
      "Error: Number is negative\n",
      "\n",
      "1 is a factor of  21\n",
      "3 is a factor of  21\n",
      "7 is a factor of  21\n",
      "21 is a factor of  21\n",
      "\n",
      "\n",
      "1 is a factor of  8\n",
      "2 is a factor of  8\n",
      "4 is a factor of  8\n",
      "8 is a factor of  8\n",
      "\n",
      "\n"
     ]
    }
   ],
   "source": [
    "get_factor(0)\n",
    "get_factor(-12)\n",
    "get_factor(21) \n",
    "get_factor(8)"
   ]
  },
  {
   "cell_type": "markdown",
   "metadata": {
    "colab_type": "text",
    "id": "99l7ApjuIjmP"
   },
   "source": [
    "## Lists\n",
    "Python has a datatype of lists, which stores an ordered array of objects. Objects in the list may be accessed and altered by indexing. Be careful, the first element of the list has index $0$ ! *Extra: dictionaries*."
   ]
  },
  {
   "cell_type": "code",
   "execution_count": 129,
   "metadata": {
    "colab": {
     "base_uri": "https://localhost:8080/",
     "height": 84
    },
    "colab_type": "code",
    "id": "qCa2HCKoIjmQ",
    "outputId": "a4f7b73b-847f-4eb7-b843-2c36160bf7c7"
   },
   "outputs": [
    {
     "name": "stdout",
     "output_type": "stream",
     "text": [
      "list_x =  [2, -5, 0.146, False, 56, 'hello']\n",
      " 1st element =  2\n",
      " 2nd element =  -5\n",
      " 3rd element =  0.146\n",
      " 4th element =  False\n",
      " 5th element =  56\n",
      " 6th element =  hello\n",
      " last element =  hello\n",
      " second last element =  56\n"
     ]
    }
   ],
   "source": [
    "# define a list\n",
    "list_x = [2, -5, 0.146, False, 56, 'hello']\n",
    "print(\"list_x = \", list_x)\n",
    "# print each element of the list , access by index\n",
    "print(\" 1st element = \", list_x[0])\n",
    "print(\" 2nd element = \", list_x[1])\n",
    "print(\" 3rd element = \", list_x[2])\n",
    "print(\" 4th element = \", list_x[3])\n",
    "print(\" 5th element = \", list_x[4]) \n",
    "print(\" 6th element = \", list_x[5])\n",
    "# last element can also be accessed by index -1\n",
    "print(\" last element = \", list_x[-1])\n",
    "# negative index means we are counting from the end\n",
    "print(\" second last element = \", list_x[-2])"
   ]
  },
  {
   "cell_type": "markdown",
   "metadata": {},
   "source": [
    "Elements of a list can also be modified through indexing :"
   ]
  },
  {
   "cell_type": "code",
   "execution_count": 130,
   "metadata": {},
   "outputs": [
    {
     "name": "stdout",
     "output_type": "stream",
     "text": [
      "list_x =  [2, -5, 0.146, False, 56, 'hello']\n",
      "changed 3rd element  [2, -5, True, False, 56, 'hello']\n"
     ]
    }
   ],
   "source": [
    "# before modification\n",
    "print(\"list_x = \", list_x)\n",
    "# change 3rd element to boolean 'True'\n",
    "list_x[2] = True\n",
    "# after modification\n",
    "print(\"changed 3rd element \", list_x)"
   ]
  },
  {
   "cell_type": "markdown",
   "metadata": {},
   "source": [
    "Lists can be _concatenated_ by using the list addition (careful, this is not an addition in the usual sense, i.e. it doesn't add up elements 1 by 1) :"
   ]
  },
  {
   "cell_type": "code",
   "execution_count": 131,
   "metadata": {},
   "outputs": [
    {
     "name": "stdout",
     "output_type": "stream",
     "text": [
      "mylist1 =  [1, 3, True, 'hey']\n",
      "mylist2 =  [-5.4, 'Yo', 1]\n",
      "mylist1+mylist2 =  [1, 3, True, 'hey', -5.4, 'Yo', 1]\n"
     ]
    }
   ],
   "source": [
    "mylist1 = [1,3,True,'hey']\n",
    "mylist2 = [-5.4, 'Yo', 1]\n",
    "print(\"mylist1 = \", mylist1)\n",
    "print(\"mylist2 = \", mylist2)\n",
    "print(\"mylist1+mylist2 = \", mylist1+mylist2)"
   ]
  },
  {
   "cell_type": "markdown",
   "metadata": {},
   "source": [
    "Some useful list functions"
   ]
  },
  {
   "cell_type": "code",
   "execution_count": 133,
   "metadata": {},
   "outputs": [
    {
     "name": "stdout",
     "output_type": "stream",
     "text": [
      "Length of list_x :  4\n",
      "Append element : [2, False, 56, 'hello', 'New element']\n",
      "Removed last element : [2, False, 56, 'hello']\n",
      "Removed 2nd element : [2, 56, 'hello']\n"
     ]
    },
    {
     "ename": "ValueError",
     "evalue": "list.remove(x): x not in list",
     "output_type": "error",
     "traceback": [
      "\u001b[0;31m---------------------------------------------------------------------------\u001b[0m",
      "\u001b[0;31mValueError\u001b[0m                                Traceback (most recent call last)",
      "\u001b[0;32m<ipython-input-133-c82a2d15115b>\u001b[0m in \u001b[0;36m<module>\u001b[0;34m\u001b[0m\n\u001b[1;32m     11\u001b[0m \u001b[0mprint\u001b[0m\u001b[0;34m(\u001b[0m\u001b[0;34m\"Removed 2nd element :\"\u001b[0m\u001b[0;34m,\u001b[0m \u001b[0mlist_x\u001b[0m\u001b[0;34m)\u001b[0m\u001b[0;34m\u001b[0m\u001b[0;34m\u001b[0m\u001b[0m\n\u001b[1;32m     12\u001b[0m \u001b[0;31m# Remove element by value\u001b[0m\u001b[0;34m\u001b[0m\u001b[0;34m\u001b[0m\u001b[0;34m\u001b[0m\u001b[0m\n\u001b[0;32m---> 13\u001b[0;31m \u001b[0mlist_x\u001b[0m\u001b[0;34m.\u001b[0m\u001b[0mremove\u001b[0m\u001b[0;34m(\u001b[0m\u001b[0;32mTrue\u001b[0m\u001b[0;34m)\u001b[0m\u001b[0;34m\u001b[0m\u001b[0;34m\u001b[0m\u001b[0m\n\u001b[0m\u001b[1;32m     14\u001b[0m \u001b[0mprint\u001b[0m\u001b[0;34m(\u001b[0m\u001b[0;34m\"Removed element 'True' :\"\u001b[0m\u001b[0;34m,\u001b[0m \u001b[0mlist_x\u001b[0m\u001b[0;34m)\u001b[0m\u001b[0;34m\u001b[0m\u001b[0;34m\u001b[0m\u001b[0m\n",
      "\u001b[0;31mValueError\u001b[0m: list.remove(x): x not in list"
     ]
    }
   ],
   "source": [
    "# Size of the list\n",
    "print(\"Length of list_x : \", len(list_x))\n",
    "# Append an element at the end\n",
    "list_x.append('New element')\n",
    "print(\"Append element :\", list_x)\n",
    "# Remove last element\n",
    "list_x.pop()\n",
    "print(\"Removed last element :\", list_x)\n",
    "# Remove element by index\n",
    "list_x.pop(1)\n",
    "print(\"Removed 2nd element :\", list_x)\n",
    "# Remove element by value\n",
    "list_x.remove(True)\n",
    "print(\"Removed element 'True' :\", list_x)"
   ]
  },
  {
   "cell_type": "markdown",
   "metadata": {},
   "source": [
    "__Question__ : Implement a function to find the second largest number in a list. Test it.\n",
    "\n",
    "Hint: count the number of _unique_ elements in the list (beware of duplicates !) and use `list.sort()`"
   ]
  },
  {
   "cell_type": "code",
   "execution_count": 136,
   "metadata": {},
   "outputs": [
    {
     "name": "stdout",
     "output_type": "stream",
     "text": [
      "mylist =  [4, 1, -4, 10, 3, 23, 2]\n",
      "Second largest element :  10\n"
     ]
    }
   ],
   "source": [
    "def second_largest(l):\n",
    "  unique_count = len(set(l))\n",
    "  if (unique_count < 2):\n",
    "    return None\n",
    "  l.sort()\n",
    "  return l[-2]\n",
    "\n",
    "mylist = [4, 1, -4, 10, 3, 23, 2]\n",
    "print(\"mylist = \", mylist)\n",
    "print(\"Second largest element : \", second_largest(mylist))"
   ]
  },
  {
   "cell_type": "markdown",
   "metadata": {
    "colab_type": "text",
    "id": "ivzeEkDVIjmT"
   },
   "source": [
    "## Loops\n",
    "While-loops execute the same lines of code until a condition is broken.\n",
    "For-loops iterate over an object while executing the same lines of code, until the iteration reaches its end.\n",
    "All for-loops may be equivalently written with while-loops."
   ]
  },
  {
   "cell_type": "code",
   "execution_count": 19,
   "metadata": {
    "colab": {
     "base_uri": "https://localhost:8080/",
     "height": 386
    },
    "colab_type": "code",
    "id": "5mwPCL-oIjmT",
    "outputId": "a39bfb37-f5a0-44d7-c7ae-591c473631b1"
   },
   "outputs": [
    {
     "name": "stdout",
     "output_type": "stream",
     "text": [
      "---- while loop 1 ----\n",
      "0\n",
      "1\n",
      "2\n",
      "3\n",
      "4\n",
      "---- while loop 2 ----\n",
      "list_x[0] =  2\n",
      "list_x[1] =  -5\n",
      "list_x[2] =  0.146\n",
      "list_x[3] =  False\n",
      "list_x[4] =  56\n",
      "list_x[5] =  hello\n",
      "---- for loop 1 ----\n",
      "list_x[0] =  2\n",
      "list_x[1] =  -5\n",
      "list_x[2] =  0.146\n",
      "list_x[3] =  False\n",
      "list_x[4] =  56\n",
      "list_x[5] =  hello\n",
      "---- for loop 2 ----\n",
      "list_x[0] =  2\n",
      "list_x[1] =  -5\n",
      "list_x[2] =  0.146\n"
     ]
    }
   ],
   "source": [
    "# while loop example\n",
    "# initialize the variable\n",
    "print(\"---- while loop 1 ----\")\n",
    "i = 0\n",
    "while(i<5):\n",
    "    print(i)\n",
    "    i = i+1\n",
    "\n",
    "print(\"---- while loop 2 ----\")\n",
    "i=0\n",
    "while(i<len(list_x)):\n",
    "    print(\"list_x[%d] = \" % i, list_x[i])\n",
    "    i = i+1\n",
    "    \n",
    "print(\"---- for loop 1 ----\")\n",
    "# equivalent for loop\n",
    "for i in range(len(list_x)):\n",
    "    print(\"list_x[%d] = \" % i, list_x[i])\n",
    "    \n",
    "print(\"---- for loop 2 ----\")\n",
    "# breaking out of a for loop\n",
    "for i in range(len(list_x)):\n",
    "    if(list_x[i] == False):\n",
    "        break\n",
    "    print(\"list_x[%d] = \" % i, list_x[i])"
   ]
  },
  {
   "cell_type": "markdown",
   "metadata": {
    "colab_type": "text",
    "id": "jaSj0e63IjmZ"
   },
   "source": [
    "## Strings\n",
    "Strings in python are treated as lists of characters. There are a bunch of built-in functions dealing with strings that you should look up. *Extra: ```find()```"
   ]
  },
  {
   "cell_type": "code",
   "execution_count": 9,
   "metadata": {
    "colab": {
     "base_uri": "https://localhost:8080/",
     "height": 50
    },
    "colab_type": "code",
    "id": "OGpzTTF3IjmZ",
    "outputId": "1b9fbde7-f188-4a04-bcc4-3e859807ffe4"
   },
   "outputs": [
    {
     "name": "stdout",
     "output_type": "stream",
     "text": [
      "o\n",
      "llo ev\n"
     ]
    }
   ],
   "source": [
    "this_string = \"hello everyone\"\n",
    "\n",
    "print(this_string[4])\n",
    "print(this_string[2:8])"
   ]
  },
  {
   "cell_type": "markdown",
   "metadata": {},
   "source": [
    "Strings can be added together (concatenation) : "
   ]
  },
  {
   "cell_type": "code",
   "execution_count": 96,
   "metadata": {},
   "outputs": [
    {
     "name": "stdout",
     "output_type": "stream",
     "text": [
      "Hello, how are you ?\n"
     ]
    }
   ],
   "source": [
    "string1 = \"Hello, how\"\n",
    "string2 = \" are you ?\"\n",
    "print(string1+string2)"
   ]
  },
  {
   "cell_type": "markdown",
   "metadata": {
    "colab_type": "text",
    "id": "f_8Bl2vpIjmc"
   },
   "source": [
    "## Classes\n",
    "So far we've seen the data-types of integers, floats (non-integer numbers), booleans, strings, and characters. Most modern programming languages allow us to basically define our own data-types in the form of **classes**. \n",
    "\n",
    "We instiate instances of our new datatype by callling the class, which automatically calls the `__init__` function. These class objects then have values and functions associated with them, that can be accessed by the \"dot\": ```my_object.my_value``` or ```my_object.my_function```. "
   ]
  },
  {
   "cell_type": "code",
   "execution_count": 98,
   "metadata": {
    "colab": {
     "base_uri": "https://localhost:8080/",
     "height": 84
    },
    "colab_type": "code",
    "id": "5gKykQHkIjmc",
    "outputId": "39270b98-ff75-4052-b52b-b61b05678c31"
   },
   "outputs": [
    {
     "name": "stdout",
     "output_type": "stream",
     "text": [
      "my_object.my_val =  10\n",
      "my_object.my_str =  Nikola\n",
      "my_object.my_val =  11\n",
      "Nikola\n"
     ]
    }
   ],
   "source": [
    "class MyClass:\n",
    "    # init function must be called __init__\n",
    "    def __init__(self, value=0, string=\"...\"):\n",
    "        self.my_val = value\n",
    "        self.my_str = string\n",
    "    # all other functions can be called whatever you like\n",
    "    def increment(self, inc=1):\n",
    "        self.my_val += inc\n",
    "    # all functions of the class need self as a parameter\n",
    "    def printStr(self):\n",
    "        print(self.my_str)\n",
    "\n",
    "# Create class\n",
    "my_object = MyClass(10, \"Nikola\")\n",
    "\n",
    "# Test it\n",
    "print(\"my_object.my_val = \", my_object.my_val)\n",
    "print(\"my_object.my_str = \", my_object.my_str)\n",
    "my_object.increment()\n",
    "print(\"my_object.my_val = \", my_object.my_val)\n",
    "my_object.printStr()"
   ]
  },
  {
   "cell_type": "markdown",
   "metadata": {},
   "source": [
    "A bit of vocabulary: the class has _attributes_ (e.g. `MyClass.my_val` and `MyClass.my_string`), _member functions_ (e.g. `MyClass.increment`. A member function can also be called a _method_. The code\n",
    "\n",
    "`my_object = MyClass(10, \"Nikola\")` \n",
    "\n",
    "is called an _instantiation_ of `MyClass` and `my_object` is called an _instance_ of `MyClass`."
   ]
  },
  {
   "cell_type": "markdown",
   "metadata": {},
   "source": [
    "__Question__ : Implement a class that has at least two methods:   \n",
    "*   getString: to get a string from console input (Hint: use input())\n",
    "*   printString: to print the string in upper case (Hint: use upper())\n",
    "\n",
    "Instantiate your class and test its methods."
   ]
  },
  {
   "cell_type": "code",
   "execution_count": null,
   "metadata": {},
   "outputs": [],
   "source": [
    "class string_class():\n",
    "  def __init__(self):\n",
    "      self.s = \"\"\n",
    "\n",
    "  def getString(self):\n",
    "      self.s = input()\n",
    "\n",
    "  def printString(self):\n",
    "      print(self.s.upper())\n",
    "\n",
    "string_obj = string_class()\n",
    "string_obj.getString()\n",
    "string_obj.printString()"
   ]
  },
  {
   "cell_type": "markdown",
   "metadata": {},
   "source": [
    "__Question__ : Implement a class `Calculator`. The `__init__` function should take $2$ numbers as inputs, for which you can define default values. The class should have member functions to add, substract, etc. these numbers. The class should also have a member variable `result` holding the result of the operation and a `display` function to print it."
   ]
  },
  {
   "cell_type": "code",
   "execution_count": 23,
   "metadata": {},
   "outputs": [
    {
     "name": "stdout",
     "output_type": "stream",
     "text": [
      "Result =  7.0\n",
      "Result =  10.0\n"
     ]
    }
   ],
   "source": [
    "class Calculator:\n",
    "    \n",
    "    def __init__(self, inputNumber1=0., inputNumber2=0.):\n",
    "        self.a = inputNumber1\n",
    "        self.b = inputNumber2\n",
    "        self.result = 0\n",
    "        \n",
    "    def add(self):\n",
    "        self.result = self.a + self.b\n",
    "    \n",
    "    def substract(self):\n",
    "        self.result = self.a - self.b\n",
    "    \n",
    "    def multiply(self):\n",
    "        self.result = self.a*self.b\n",
    "        \n",
    "    def display(self):\n",
    "        print(\"Result = \", self.result)\n",
    "        \n",
    "calc = Calculator(2.,5.)\n",
    "calc.add()\n",
    "calc.display()\n",
    "calc.multiply()\n",
    "calc.display()"
   ]
  },
  {
   "cell_type": "markdown",
   "metadata": {},
   "source": [
    "## Numpy (a.k.a vectors and matrices)\n",
    "\n",
    "Numpy (https://numpy.org/) is a widely used Python library for scientific computing. We introduce here some basics, but for more info about numpy objects and operations you can explore the official website : https://numpy.org/doc/stable/user/quickstart.html. In order to be able to use Numpy, we need to import"
   ]
  },
  {
   "cell_type": "code",
   "execution_count": 25,
   "metadata": {},
   "outputs": [],
   "source": [
    "import numpy as np"
   ]
  },
  {
   "cell_type": "markdown",
   "metadata": {},
   "source": [
    "The most commonly used object from numpy is the `array`. An array is a multi-dimensional table, very useful to represent vectors and matrices."
   ]
  },
  {
   "cell_type": "code",
   "execution_count": 103,
   "metadata": {},
   "outputs": [
    {
     "name": "stdout",
     "output_type": "stream",
     "text": [
      "a = \n",
      "[0 1 2 3 4 5]\n",
      "b = \n",
      "[[ 0  1  2  3  4]\n",
      " [ 5  6  7  8  9]\n",
      " [10 11 12 13 14]]\n"
     ]
    }
   ],
   "source": [
    "# Create a 1-D array filled with numbers from 0 to 5\n",
    "a = np.array([0,1,2,3,4,5])\n",
    "print(\"a = \")\n",
    "print(a)\n",
    "\n",
    "# Create a numpy 2-D array filled with numbers from 0 to 14\n",
    "b = np.array([[ 0,  1,  2,  3,  4],\n",
    "              [ 5,  6,  7,  8,  9],\n",
    "              [10, 11, 12, 13, 14]])\n",
    "print(\"b = \")\n",
    "print(b)"
   ]
  },
  {
   "cell_type": "markdown",
   "metadata": {},
   "source": [
    "Be careful in arrays definition, don't forget the brackets `[]`. Elements of arrays can be accessed similarily to lists, using indexing with brackets :"
   ]
  },
  {
   "cell_type": "code",
   "execution_count": 106,
   "metadata": {},
   "outputs": [
    {
     "name": "stdout",
     "output_type": "stream",
     "text": [
      "1st element of a :  0\n",
      "Element of b at (2nd row, 3rd column) :  54\n",
      "Changed element of b at (2nd row, 3rd column) to value 54: \n",
      "[[ 0  1  2  3  4]\n",
      " [ 5  6 54  8  9]\n",
      " [10 11 12 13 14]]\n"
     ]
    }
   ],
   "source": [
    "# print first element of 1D array a\n",
    "print(\"1st element of a : \", a[0])\n",
    "\n",
    "# print (2 row, 3rd colmun) of 2D array b\n",
    "print(\"Element of b at (2nd row, 3rd column) : \", b[1,2])\n",
    "\n",
    "# change the value of (2 row, 3rd colmun) of 2D array b\n",
    "b[1,2] = 54\n",
    "print(\"Changed element of b at (2nd row, 3rd column) to value 54: \")\n",
    "print(b)"
   ]
  },
  {
   "cell_type": "markdown",
   "metadata": {},
   "source": [
    "The usual __vector operations__ are illustrated below"
   ]
  },
  {
   "cell_type": "code",
   "execution_count": 62,
   "metadata": {},
   "outputs": [
    {
     "name": "stdout",
     "output_type": "stream",
     "text": [
      "v+u =  [ 4 11  2  4]\n",
      "3v =  [ 3 15  6 27]\n",
      "u dot v =  -12\n",
      "Or u dot v =  -12\n",
      "sqrt(v dot v) = 10.54\n",
      "||v|| = 10.54\n"
     ]
    }
   ],
   "source": [
    "# Define 2 vectors\n",
    "v = np.array([1,5,2,9])\n",
    "u = np.array([3,6,0,-5])\n",
    "# vector addition\n",
    "print(\"v+u = \", v+u)\n",
    "# vector scaling\n",
    "print(\"3v = \", 3*v)\n",
    "# Dot-Product\n",
    "print(\"u dot v = \", np.dot(u,v))\n",
    "print('Or u dot v = ', u.dot(v))\n",
    "# Length / L2 Norm of a vector\n",
    "print(\"sqrt(v dot v) = %.2f\" % np.sqrt(np.dot(v,v)))\n",
    "print(\"||v|| = %.2f\" % np.linalg.norm(v))"
   ]
  },
  {
   "cell_type": "markdown",
   "metadata": {},
   "source": [
    "__Usual matrix operations__ "
   ]
  },
  {
   "cell_type": "code",
   "execution_count": 63,
   "metadata": {},
   "outputs": [
    {
     "name": "stdout",
     "output_type": "stream",
     "text": [
      "M =  (2, 3)\n",
      "[[  1   9 -12]\n",
      " [ 15  -2   0]]\n",
      "A+B = \n",
      " [[ 1  9]\n",
      " [ 9 12]]\n",
      "aB = \n",
      " [[ 0 40]\n",
      " [35 55]]\n",
      "shapes of A and M: (2, 2) (2, 3)\n",
      "C1 = \n",
      " [[ 16   7 -12]\n",
      " [ 17  16 -24]]\n",
      "C2 = \n",
      " [[ 16   7 -12]\n",
      " [ 17  16 -24]]\n",
      "C3 = \n",
      " [[ 16   7 -12]\n",
      " [ 17  16 -24]]\n",
      "M^T = \n",
      " [[  1  15]\n",
      " [  9  -2]\n",
      " [-12   0]]\n",
      "M^T = \n",
      " [[  1  15]\n",
      " [  9  -2]\n",
      " [-12   0]]\n",
      "A^-1 = \n",
      " [[-1.  1.]\n",
      " [ 2. -1.]]\n"
     ]
    }
   ],
   "source": [
    "# Define a matrix\n",
    "M = np.array([ [1,9,-12], [15, -2, 0] ])\n",
    "print(\"M = \", M.shape)\n",
    "print(M)\n",
    "# matrix addition\n",
    "A = np.array([ [1, 1], [2, 1] ])\n",
    "B = np.array([ [0, 8], [7, 11] ])\n",
    "print(\"A+B = \\n\", A+B) # '\\n' is the newline character\n",
    "# matrix scaling\n",
    "a = 5\n",
    "print(\"aB = \\n\", a*B)\n",
    "# matrix multiplicaiton\n",
    "print(\"shapes of A and M:\", A.shape, M.shape)\n",
    "C1 = np.matmul(A, M)\n",
    "C2 = A.dot(M)\n",
    "C3 = A@M\n",
    "print(\"C1 = \\n\", C1)\n",
    "print(\"C2 = \\n\", C2)\n",
    "print(\"C3 = \\n\", C3)\n",
    "# matrix transpose\n",
    "print(\"M^T = \\n\", np.transpose(M))\n",
    "print(\"M^T = \\n\", M.transpose())\n",
    "# matrix inverse\n",
    "print(\"A^-1 = \\n\", np.linalg.inv(A))"
   ]
  },
  {
   "cell_type": "markdown",
   "metadata": {},
   "source": [
    "## Plots\n",
    "\n",
    "We need to import the `matplotlib` library"
   ]
  },
  {
   "cell_type": "code",
   "execution_count": 142,
   "metadata": {},
   "outputs": [],
   "source": [
    "import matplotlib.pyplot as plt"
   ]
  },
  {
   "cell_type": "markdown",
   "metadata": {},
   "source": [
    "The following code plots points $(x,y)$ as dots, given vectors containing the values of all the $x$'s and $y$'s respectively"
   ]
  },
  {
   "cell_type": "code",
   "execution_count": 143,
   "metadata": {},
   "outputs": [
    {
     "data": {
      "text/plain": [
       "Text(0.5, 1.0, 'My plot')"
      ]
     },
     "execution_count": 143,
     "metadata": {},
     "output_type": "execute_result"
    },
    {
     "data": {
      "image/png": "[encoded data removed]",
      "text/plain": [
       "<Figure size 432x288 with 1 Axes>"
      ]
     },
     "metadata": {
      "needs_background": "light"
     },
     "output_type": "display_data"
    }
   ],
   "source": [
    "# Define data\n",
    "x = [0,2,5,4]\n",
    "y = [1,3,2,1]\n",
    "# Plot dots\n",
    "plt.scatter(x,y)\n",
    "# Add labels on x and y axis\n",
    "plt.xlabel('x')\n",
    "plt.xlabel('y')\n",
    "# Add a title\n",
    "plt.title('My plot')"
   ]
  },
  {
   "cell_type": "markdown",
   "metadata": {},
   "source": [
    "Same with lines "
   ]
  },
  {
   "cell_type": "code",
   "execution_count": 145,
   "metadata": {},
   "outputs": [
    {
     "data": {
      "text/plain": [
       "Text(0.5, 0, 'y')"
      ]
     },
     "execution_count": 145,
     "metadata": {},
     "output_type": "execute_result"
    },
    {
     "data": {
      "image/png": "[encoded data removed]",
      "text/plain": [
       "<Figure size 432x288 with 1 Axes>"
      ]
     },
     "metadata": {
      "needs_background": "light"
     },
     "output_type": "display_data"
    }
   ],
   "source": [
    "plt.plot(x,y)\n",
    "plt.xlabel('x')\n",
    "plt.xlabel('y')"
   ]
  },
  {
   "cell_type": "code",
   "execution_count": 146,
   "metadata": {},
   "outputs": [
    {
     "name": "stdout",
     "output_type": "stream",
     "text": [
      "x = \n",
      "[-1.         -0.97979798 -0.95959596 -0.93939394 -0.91919192 -0.8989899\n",
      " -0.87878788 -0.85858586 -0.83838384 -0.81818182 -0.7979798  -0.77777778\n",
      " -0.75757576 -0.73737374 -0.71717172 -0.6969697  -0.67676768 -0.65656566\n",
      " -0.63636364 -0.61616162 -0.5959596  -0.57575758 -0.55555556 -0.53535354\n",
      " -0.51515152 -0.49494949 -0.47474747 -0.45454545 -0.43434343 -0.41414141\n",
      " -0.39393939 -0.37373737 -0.35353535 -0.33333333 -0.31313131 -0.29292929\n",
      " -0.27272727 -0.25252525 -0.23232323 -0.21212121 -0.19191919 -0.17171717\n",
      " -0.15151515 -0.13131313 -0.11111111 -0.09090909 -0.07070707 -0.05050505\n",
      " -0.03030303 -0.01010101  0.01010101  0.03030303  0.05050505  0.07070707\n",
      "  0.09090909  0.11111111  0.13131313  0.15151515  0.17171717  0.19191919\n",
      "  0.21212121  0.23232323  0.25252525  0.27272727  0.29292929  0.31313131\n",
      "  0.33333333  0.35353535  0.37373737  0.39393939  0.41414141  0.43434343\n",
      "  0.45454545  0.47474747  0.49494949  0.51515152  0.53535354  0.55555556\n",
      "  0.57575758  0.5959596   0.61616162  0.63636364  0.65656566  0.67676768\n",
      "  0.6969697   0.71717172  0.73737374  0.75757576  0.77777778  0.7979798\n",
      "  0.81818182  0.83838384  0.85858586  0.87878788  0.8989899   0.91919192\n",
      "  0.93939394  0.95959596  0.97979798  1.        ]\n"
     ]
    },
    {
     "data": {
      "text/plain": [
       "Text(0.5, 1.0, 'y = 2x + 0.5')"
      ]
     },
     "execution_count": 146,
     "metadata": {},
     "output_type": "execute_result"
    },
    {
     "data": {
      "image/png": "[encoded data removed]",
      "text/plain": [
       "<Figure size 432x288 with 1 Axes>"
      ]
     },
     "metadata": {
      "needs_background": "light"
     },
     "output_type": "display_data"
    }
   ],
   "source": [
    "# np.linspace is a very useful function to know !!!\n",
    "x = np.linspace(-1,1,100)\n",
    "print(\"x = \")\n",
    "print(x)\n",
    "# y = f(x) is linear with slope 2 and offset 0.5\n",
    "y = 2*x + 0.5\n",
    "# Plot y\n",
    "plt.plot(x, y)\n",
    "plt.xlabel('x')\n",
    "plt.xlabel('y')\n",
    "plt.title('y = 2x + 0.5')"
   ]
  },
  {
   "cell_type": "markdown",
   "metadata": {},
   "source": [
    "__Question__ : Plot $y=\\sin(x)$ for $-10\\leq x \\leq+10$ with 1000 points. Don't forget to add axis labels and title to your graph\n",
    "\n",
    "Hint: use `np.sin`"
   ]
  },
  {
   "cell_type": "code",
   "execution_count": 147,
   "metadata": {},
   "outputs": [
    {
     "data": {
      "text/plain": [
       "Text(0, 0.5, 'y')"
      ]
     },
     "execution_count": 147,
     "metadata": {},
     "output_type": "execute_result"
    },
    {
     "data": {
      "image/png": "[encoded data removed]",
      "text/plain": [
       "<Figure size 432x288 with 1 Axes>"
      ]
     },
     "metadata": {
      "needs_background": "light"
     },
     "output_type": "display_data"
    }
   ],
   "source": [
    "x = np.linspace(-10,10,1000)\n",
    "y = np.sin(x)\n",
    "plt.plot(x, y)\n",
    "plt.title('y=sin(x)')\n",
    "plt.xlabel('x')\n",
    "plt.ylabel('y')"
   ]
  },
  {
   "cell_type": "markdown",
   "metadata": {},
   "source": [
    "__Question__ : Plot the exponential function for $-2\\leq x\\leq 5$ with $50$ points\n",
    "\n",
    "Hint: use `np.exp`"
   ]
  },
  {
   "cell_type": "code",
   "execution_count": 148,
   "metadata": {},
   "outputs": [
    {
     "data": {
      "text/plain": [
       "Text(0, 0.5, 'y')"
      ]
     },
     "execution_count": 148,
     "metadata": {},
     "output_type": "execute_result"
    },
    {
     "data": {
      "image/png": "[encoded data removed]",
      "text/plain": [
       "<Figure size 432x288 with 1 Axes>"
      ]
     },
     "metadata": {
      "needs_background": "light"
     },
     "output_type": "display_data"
    }
   ],
   "source": [
    "x = np.linspace(-2,5,50)\n",
    "y = np.exp(x)\n",
    "plt.plot(x, y)\n",
    "plt.title('y=exp(x)')\n",
    "plt.xlabel('x')\n",
    "plt.ylabel('y')"
   ]
  },
  {
   "cell_type": "markdown",
   "metadata": {},
   "source": [
    "__Question__ : Plot the polynomial $y= -x^4 + 12x^3 + 4x^2$ for $-5 \\leq x\\leq 12$ with $200$ points\n",
    "\n",
    "Hint: use `pow` for powers"
   ]
  },
  {
   "cell_type": "code",
   "execution_count": 173,
   "metadata": {},
   "outputs": [
    {
     "data": {
      "text/plain": [
       "Text(0, 0.5, 'y')"
      ]
     },
     "execution_count": 173,
     "metadata": {},
     "output_type": "execute_result"
    },
    {
     "data": {
      "image/png": "[encoded data removed]",
      "text/plain": [
       "<Figure size 432x288 with 1 Axes>"
      ]
     },
     "metadata": {
      "needs_background": "light"
     },
     "output_type": "display_data"
    }
   ],
   "source": [
    "x = np.linspace(-5,12,200)\n",
    "y = -pow(x,4) + 12*pow(x,3) + 4*pow(x,2) \n",
    "plt.plot(x, y)\n",
    "plt.title('y= -x^4 + 12x^3 + 4x^2')\n",
    "plt.xlabel('x')\n",
    "plt.ylabel('y')"
   ]
  },
  {
   "cell_type": "markdown",
   "metadata": {},
   "source": [
    "## To go further\n",
    "\n",
    "If you would like learn / practice more, or if some notions are still unclear, feel free to check other resources - there are _plenty_ of python tutorials online. For instance :\n",
    "\n",
    "- https://wiki.python.org/moin/BeginnersGuide\n",
    "- https://www.learnpython.org/\n",
    "- https://realpython.com/"
   ]
  }
 ],
 "metadata": {
  "colab": {
   "name": "demo_python_basics.ipynb",
   "provenance": []
  },
  "kernelspec": {
   "display_name": "Python 3",
   "language": "python",
   "name": "python3"
  },
  "language_info": {
   "codemirror_mode": {
    "name": "ipython",
    "version": 3
   },
   "file_extension": ".py",
   "mimetype": "text/x-python",
   "name": "python",
   "nbconvert_exporter": "python",
   "pygments_lexer": "ipython3",
   "version": "3.6.9"
  }
 },
 "nbformat": 4,
 "nbformat_minor": 1
}
